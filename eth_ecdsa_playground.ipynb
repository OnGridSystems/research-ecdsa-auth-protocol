{
 "cells": [
  {
   "cell_type": "markdown",
   "metadata": {},
   "source": [
    "# Ethereum ECDSA signature playground\n",
    "## Prepare\n",
    "\n",
    "To interact with Ethereum network, you need Ethereum node up and running.\n",
    "You can run both notebook and ganache-cli node emulator by `./start.sh` script.\n",
    "\n",
    "Or you can run ganache-cli Ethereum emulator in separate terminal\n",
    "`npx ganache-cli -m \"dawn finish orchard pluck festival genuine absorb van bike mirror kiss loop\"`\n",
    "(12 words are the seed passphrase to keep addresses and keys constant)"
   ]
  },
  {
   "cell_type": "markdown",
   "metadata": {},
   "source": [
    "## Connect to Web3\n",
    "Now connect to Ethereum provider via web3 RPC"
   ]
  },
  {
   "cell_type": "code",
   "execution_count": 1,
   "metadata": {},
   "outputs": [],
   "source": [
    "from web3 import Web3\n",
    "w3 = Web3(Web3.HTTPProvider('http://127.0.0.1:8545'))\n",
    "w3.eth.defaultAccount = w3.eth.accounts[0]"
   ]
  },
  {
   "cell_type": "markdown",
   "metadata": {},
   "source": [
    "Check if web3 up and running"
   ]
  },
  {
   "cell_type": "code",
   "execution_count": 2,
   "metadata": {},
   "outputs": [
    {
     "data": {
      "text/plain": [
       "AttributeDict({'number': 4,\n",
       " 'hash': HexBytes('0xee12fa837bace87afc5fd3972982d4d1fb3afb99f77007b4f6750077b86f0d45'),\n",
       " 'parentHash': HexBytes('0xbc036b97685ed7c260398412732b053ef1de5612cd89d18efc37fda59101a397'),\n",
       " 'mixHash': HexBytes('0x0000000000000000000000000000000000000000000000000000000000000000'),\n",
       " 'nonce': HexBytes('0x0000000000000000'),\n",
       " 'sha3Uncles': HexBytes('0x1dcc4de8dec75d7aab85b567b6ccd41ad312451b948a7413f0a142fd40d49347'),\n",
       " 'logsBloom': HexBytes('0x00000000000000000000000000000000000000000000000000000000000000000000080000000000000000000000000000000000000000000000000000000000000000000000000000000008000000000000000000000000000000000000000000000000020000000000000000000800000000000000000000000010000000000000000020000000000000000000000000000000000000000000000000040020000000000000000000000000000000000000000000000000000000000000000000000002000000000000000000000000000000000000000000000000000820000000000000800000000000000000000000000000000000000000000000000000'),\n",
       " 'transactionsRoot': HexBytes('0x01a569eb1a0b74e5a63733acc399b20bb4362a4ae6e50423f1e29a8d4ef94a89'),\n",
       " 'stateRoot': HexBytes('0xf0ac1741b194f8a565bcdaac7870ee36d52887f56701d47a37babffb2a5420e2'),\n",
       " 'receiptsRoot': HexBytes('0x332975591cc51c288d932c216f7a98b97a76c16d963aa4c8cb362549c3f31dfe'),\n",
       " 'miner': '0x0000000000000000000000000000000000000000',\n",
       " 'difficulty': 0,\n",
       " 'totalDifficulty': 0,\n",
       " 'extraData': HexBytes('0x'),\n",
       " 'size': 1000,\n",
       " 'gasLimit': 6721975,\n",
       " 'gasUsed': 66225,\n",
       " 'timestamp': 1555930006,\n",
       " 'transactions': [HexBytes('0x497746868bc8e745764197066a0dfd7fa599926d4980822883094d8700e298f0')],\n",
       " 'uncles': []})"
      ]
     },
     "execution_count": 2,
     "metadata": {},
     "output_type": "execute_result"
    }
   ],
   "source": [
    "w3.eth.getBlock('latest')"
   ]
  },
  {
   "cell_type": "markdown",
   "metadata": {},
   "source": [
    "## Solidity version\n",
    "Solc compiler has to be installed on your machine. Check solidity version (should match pragma statement in your contract)"
   ]
  },
  {
   "cell_type": "code",
   "execution_count": 4,
   "metadata": {},
   "outputs": [
    {
     "data": {
      "text/plain": [
       "'0.5.7+commit.6da8b019.Darwin.appleclang'"
      ]
     },
     "execution_count": 4,
     "metadata": {},
     "output_type": "execute_result"
    }
   ],
   "source": [
    "import subprocess, re, json\n",
    "solc = subprocess.Popen(['solc', '--version'], stdout=subprocess.PIPE, stdin=subprocess.PIPE)\n",
    "solc_output = solc.communicate()\n",
    "\n",
    "m = re.search(r\"Version: ([\\w\\.\\+]+)\", str(solc_output[0]))\n",
    "m.group(1)"
   ]
  },
  {
   "cell_type": "markdown",
   "metadata": {},
   "source": [
    "## Solidity verification contract\n",
    "The contract which uses ECRECOVER solidity function to recover address from hash of the data and its signature."
   ]
  },
  {
   "cell_type": "code",
   "execution_count": 5,
   "metadata": {},
   "outputs": [],
   "source": [
    "contract_source_code = b\"\"\"\n",
    "\n",
    "pragma solidity ^0.5.7;\n",
    "\n",
    "contract Auth {      \n",
    "    function verify(address p, bytes32 hash, uint8 v, bytes32 r, bytes32 s) pure public returns(bool) {\n",
    "        return ecrecover(hash, v, r, s) == p;\n",
    "    }\n",
    "}\n",
    "\n",
    "\"\"\""
   ]
  },
  {
   "cell_type": "markdown",
   "metadata": {},
   "source": [
    "Actually compile and generate ABI"
   ]
  },
  {
   "cell_type": "code",
   "execution_count": 6,
   "metadata": {},
   "outputs": [],
   "source": [
    "solc = subprocess.Popen(['solc', '--combined-json', 'bin,abi', '-'], stdout=subprocess.PIPE, stdin=subprocess.PIPE)\n",
    "solc_output = solc.communicate(contract_source_code)"
   ]
  },
  {
   "cell_type": "markdown",
   "metadata": {},
   "source": [
    "See the contract bytecode"
   ]
  },
  {
   "cell_type": "code",
   "execution_count": 7,
   "metadata": {},
   "outputs": [
    {
     "data": {
      "text/plain": [
       "'608060405234801561001057600080fd5b50610185806100206000396000f3fe608060405234801561001057600080fd5b506004361061002b5760003560e01c8063506535f314610030575b600080fd5b61009d600480360360a081101561004657600080fd5b81019080803573ffffffffffffffffffffffffffffffffffffffff16906020019092919080359060200190929190803560ff16906020019092919080359060200190929190803590602001909291905050506100b7565b604051808215151515815260200191505060405180910390f35b60008573ffffffffffffffffffffffffffffffffffffffff1660018686868660405160008152602001604052604051808581526020018460ff1660ff1681526020018381526020018281526020019450505050506020604051602081039080840390855afa15801561012d573d6000803e3d6000fd5b5050506020604051035173ffffffffffffffffffffffffffffffffffffffff161490509594505050505056fea165627a7a7230582093a5ddcab62c2e993758d6e42615e75567392c49cb4606fd6ae140e1496c640b0029'"
      ]
     },
     "execution_count": 7,
     "metadata": {},
     "output_type": "execute_result"
    }
   ],
   "source": [
    "bytecode = json.loads(solc_output[0])['contracts']['<stdin>:Auth']['bin']\n",
    "bytecode"
   ]
  },
  {
   "cell_type": "markdown",
   "metadata": {},
   "source": [
    "See the contract ABI interfaces"
   ]
  },
  {
   "cell_type": "code",
   "execution_count": 8,
   "metadata": {},
   "outputs": [
    {
     "data": {
      "text/plain": [
       "'[{\"constant\":true,\"inputs\":[{\"name\":\"p\",\"type\":\"address\"},{\"name\":\"hash\",\"type\":\"bytes32\"},{\"name\":\"v\",\"type\":\"uint8\"},{\"name\":\"r\",\"type\":\"bytes32\"},{\"name\":\"s\",\"type\":\"bytes32\"}],\"name\":\"verify\",\"outputs\":[{\"name\":\"\",\"type\":\"bool\"}],\"payable\":false,\"stateMutability\":\"pure\",\"type\":\"function\"}]'"
      ]
     },
     "execution_count": 8,
     "metadata": {},
     "output_type": "execute_result"
    }
   ],
   "source": [
    "abi = json.loads(solc_output[0])['contracts']['<stdin>:Auth']['abi']\n",
    "abi"
   ]
  },
  {
   "cell_type": "markdown",
   "metadata": {},
   "source": [
    "## Deploy\n",
    "Instantiate contract fabric and deploy the contract on the net"
   ]
  },
  {
   "cell_type": "code",
   "execution_count": 9,
   "metadata": {},
   "outputs": [
    {
     "data": {
      "text/plain": [
       "HexBytes('0x77210a6c3bf1cdafbdd90ee35438d63976de78c87ef25f6deb529d079bfac28b')"
      ]
     },
     "execution_count": 9,
     "metadata": {},
     "output_type": "execute_result"
    }
   ],
   "source": [
    "AuthContract = w3.eth.contract(abi=abi, bytecode=bytecode)\n",
    "tx_hash = AuthContract.constructor().transact()\n",
    "tx_hash"
   ]
  },
  {
   "cell_type": "markdown",
   "metadata": {},
   "source": [
    "Get Tx receipt (see contractAddress)"
   ]
  },
  {
   "cell_type": "code",
   "execution_count": 10,
   "metadata": {},
   "outputs": [
    {
     "data": {
      "text/plain": [
       "AttributeDict({'transactionHash': HexBytes('0x77210a6c3bf1cdafbdd90ee35438d63976de78c87ef25f6deb529d079bfac28b'),\n",
       " 'transactionIndex': 0,\n",
       " 'blockHash': HexBytes('0x89b17454a67c9f3e0d4fceacb708760277ab09aff5d4f5fd3bd361eece918861'),\n",
       " 'blockNumber': 5,\n",
       " 'from': '0x90c08087af274b77516df05952273008fea2c4b9',\n",
       " 'to': None,\n",
       " 'gasUsed': 158277,\n",
       " 'cumulativeGasUsed': 158277,\n",
       " 'contractAddress': '0xF7a848FFf7a333D53B7F9B0077BD4D031B40A73b',\n",
       " 'logs': [],\n",
       " 'status': 1,\n",
       " 'logsBloom': HexBytes('0x00000000000000000000000000000000000000000000000000000000000000000000000000000000000000000000000000000000000000000000000000000000000000000000000000000000000000000000000000000000000000000000000000000000000000000000000000000000000000000000000000000000000000000000000000000000000000000000000000000000000000000000000000000000000000000000000000000000000000000000000000000000000000000000000000000000000000000000000000000000000000000000000000000000000000000000000000000000000000000000000000000000000000000000000000000000'),\n",
       " 'v': '0x1b',\n",
       " 'r': '0x370b5e475a42f80675447d18959e120f80c63ea9d97e9b507c107ebd3986f038',\n",
       " 's': '0x3c1e1f5de6cbe7fd1310b20ac6ec0ec3c67ccbadbd6cc7b7624a29c938d38442'})"
      ]
     },
     "execution_count": 10,
     "metadata": {},
     "output_type": "execute_result"
    }
   ],
   "source": [
    "tx_receipt = w3.eth.waitForTransactionReceipt(tx_hash)\n",
    "tx_receipt"
   ]
  },
  {
   "cell_type": "markdown",
   "metadata": {},
   "source": [
    "Initialize contract instance at given address"
   ]
  },
  {
   "cell_type": "code",
   "execution_count": 11,
   "metadata": {},
   "outputs": [
    {
     "data": {
      "text/plain": [
       "<web3.utils.datatypes.Contract at 0x1104ff748>"
      ]
     },
     "execution_count": 11,
     "metadata": {},
     "output_type": "execute_result"
    }
   ],
   "source": [
    "auth_contract = w3.eth.contract(\n",
    "    address=tx_receipt.contractAddress,\n",
    "    abi=abi,\n",
    ")\n",
    "auth_contract"
   ]
  },
  {
   "cell_type": "markdown",
   "metadata": {},
   "source": [
    "## Interact\n",
    "Call the contract methods (ToDo)"
   ]
  },
  {
   "cell_type": "code",
   "execution_count": 12,
   "metadata": {},
   "outputs": [
    {
     "data": {
      "text/plain": [
       "False"
      ]
     },
     "execution_count": 12,
     "metadata": {},
     "output_type": "execute_result"
    }
   ],
   "source": [
    "auth_contract.functions.verify(\n",
    "    '0x7E5F4552091A69125d5DfCb7b8C2659029395Bdf',\n",
    "    bytes(0),\n",
    "    1,\n",
    "    bytes(b'\\xff'*32),\n",
    "    bytes(b'\\xff'*32)).call()"
   ]
  },
  {
   "cell_type": "code",
   "execution_count": null,
   "metadata": {},
   "outputs": [],
   "source": []
  }
 ],
 "metadata": {
  "kernelspec": {
   "display_name": "Python 3",
   "language": "python",
   "name": "python3"
  },
  "language_info": {
   "codemirror_mode": {
    "name": "ipython",
    "version": 3
   },
   "file_extension": ".py",
   "mimetype": "text/x-python",
   "name": "python",
   "nbconvert_exporter": "python",
   "pygments_lexer": "ipython3",
   "version": "3.6.4"
  }
 },
 "nbformat": 4,
 "nbformat_minor": 2
}
