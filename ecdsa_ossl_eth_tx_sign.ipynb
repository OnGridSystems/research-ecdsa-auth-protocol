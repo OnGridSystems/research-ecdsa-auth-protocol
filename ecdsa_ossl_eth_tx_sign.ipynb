{
 "cells": [
  {
   "cell_type": "markdown",
   "metadata": {},
   "source": [
    "# Ethereum transaction OpenSSL signing\n",
    "\n",
    "Create, sign and send ethereum transaction by the hard way\n",
    "\n",
    "**ToDo:** use own dir for temp files or make all subprocess operations without generatin files in project folder"
   ]
  },
  {
   "cell_type": "markdown",
   "metadata": {},
   "source": [
    "## 1 Imports, Web3 connection\n",
    "Now connect to Ethereum provider via web3 RPC"
   ]
  },
  {
   "cell_type": "code",
   "execution_count": 1,
   "metadata": {},
   "outputs": [],
   "source": [
    "import subprocess\n",
    "from web3 import Web3\n",
    "\n",
    "from eth_account._utils.transactions import (\n",
    "    encode_transaction,\n",
    "    serializable_unsigned_transaction_from_dict,\n",
    ")\n",
    "\n",
    "from eth_keys import (\n",
    "    keys,\n",
    ")\n",
    "\n",
    "from eth_keys.datatypes import (  \n",
    "    PublicKey,\n",
    ")\n",
    "\n",
    "from eth_keys.backends.native.ecdsa import (\n",
    "    ecdsa_raw_verify,\n",
    "    ecdsa_raw_recover,\n",
    "    decode_public_key,\n",
    "    private_key_to_public_key,\n",
    ")"
   ]
  },
  {
   "cell_type": "code",
   "execution_count": 2,
   "metadata": {},
   "outputs": [],
   "source": [
    "w3 = Web3(Web3.HTTPProvider('http://127.0.0.1:8545'))\n",
    "CHAIN_ID = 1"
   ]
  },
  {
   "cell_type": "markdown",
   "metadata": {},
   "source": [
    "## 2.1 Generate private key via OpenSSL (optional)"
   ]
  },
  {
   "cell_type": "code",
   "execution_count": null,
   "metadata": {
    "scrolled": true
   },
   "outputs": [],
   "source": [
    "subprocess.run('openssl ecparam -name secp256k1 -genkey -noout -out private_key.pem', shell=True).returncode\n",
    "with open('private_key.pem') as f:\n",
    "    for line in f:\n",
    "        print(line, end='')"
   ]
  },
  {
   "cell_type": "code",
   "execution_count": null,
   "metadata": {
    "scrolled": false
   },
   "outputs": [],
   "source": [
    "raw_output = subprocess.run('openssl ec -in private_key.pem -text -noout', shell=True, capture_output=True).stdout.decode()\n",
    "print(raw_output)"
   ]
  },
  {
   "cell_type": "code",
   "execution_count": null,
   "metadata": {},
   "outputs": [],
   "source": [
    "private_key_hexstr = ''.join([x.replace(' ','').replace(':','') for x in raw_output.split('\\n')[2:5]])\n",
    "print('priv: ' + private_key_hexstr)\n",
    "public_key_hexstr = ''.join([x.replace(' ','').replace(':','') for x in raw_output.split('\\n')[6:11]])\n",
    "print('pub: ' + public_key_hexstr)"
   ]
  },
  {
   "cell_type": "markdown",
   "metadata": {},
   "source": [
    "## 2.2 Import raw private key (e.g. from ganache) and create locally its .pem file\n",
    "It should be in hex format without `0x` prefix"
   ]
  },
  {
   "cell_type": "code",
   "execution_count": 3,
   "metadata": {},
   "outputs": [
    {
     "data": {
      "text/plain": [
       "0"
      ]
     },
     "execution_count": 3,
     "metadata": {},
     "output_type": "execute_result"
    }
   ],
   "source": [
    "# this adress is 0 account from ganache\n",
    "private_key_hexstr = '44d01ff7ab5e778dac355876d5200b1f0d4f8d9bbd0f15723e7683f9c6ee8a78'\n",
    "\n",
    "public_key_hexstr = '04' + Web3.toHex(private_key_to_public_key(Web3.toBytes(hexstr=private_key_hexstr)))[2:]\n",
    "subprocess.run(f'echo 30740201010420 {private_key_hexstr} a00706052b8104000aa144034200 {public_key_hexstr} | xxd -r -p > raw_pem_key', shell=True).returncode\n",
    "subprocess.run('openssl ec -inform d < raw_pem_key > private_key.pem', shell=True).returncode"
   ]
  },
  {
   "cell_type": "markdown",
   "metadata": {},
   "source": [
    "## 3 Create ethereum transaction dict"
   ]
  },
  {
   "cell_type": "code",
   "execution_count": 4,
   "metadata": {},
   "outputs": [
    {
     "data": {
      "text/plain": [
       "4"
      ]
     },
     "execution_count": 4,
     "metadata": {},
     "output_type": "execute_result"
    }
   ],
   "source": [
    "w3.eth.defaultAccount = w3.eth.accounts[0]\n",
    "\n",
    "nonce = w3.eth.getTransactionCount(w3.eth.defaultAccount)\n",
    "transaction_dict = {\n",
    "    #'from': w3.eth.accounts[0],\n",
    "    'to': Web3.toChecksumAddress(w3.eth.accounts[1]),\n",
    "    'value': 1,\n",
    "    'gas': 200000,\n",
    "    'gasPrice': 0,\n",
    "    'nonce': nonce,\n",
    "    'chainId': CHAIN_ID\n",
    "}\n",
    "\n",
    "nonce"
   ]
  },
  {
   "cell_type": "markdown",
   "metadata": {},
   "source": [
    "## 4.1 Sign transaction dict via web3.py (optional)"
   ]
  },
  {
   "cell_type": "code",
   "execution_count": null,
   "metadata": {},
   "outputs": [],
   "source": [
    "signed_tx = w3.eth.account.signTransaction(transaction_dict, private_key_hexstr)\n",
    "print('signed tx hex:\\n' + w3.toHex(signed_tx.rawTransaction) + '\\n')\n",
    "print('signed tx hash hex:\\n' + w3.toHex(signed_tx.hash) + '\\n')\n",
    "print('tx ecdsa signature, (v, r, s):')\n",
    "print(w3.toHex(signed_tx.v))\n",
    "print(w3.toHex(signed_tx.r))\n",
    "print(w3.toHex(signed_tx.s))"
   ]
  },
  {
   "cell_type": "markdown",
   "metadata": {},
   "source": [
    "## 4.2 Sign transaction dict via OpenSSL"
   ]
  },
  {
   "cell_type": "markdown",
   "metadata": {},
   "source": [
    "Prepare to serialize transaction dict (create abstract web3py transaction object), then RLP encode transaction and get keccak hash. This hash should be used in openssl sign.\n",
    "```bash\n",
    "echo <keccak_hash> | xxd -r -p > keccak_hash_file\n",
    "```"
   ]
  },
  {
   "cell_type": "code",
   "execution_count": 5,
   "metadata": {},
   "outputs": [
    {
     "data": {
      "text/plain": [
       "'0x08c863b465cae138e8d532d26075aeb9b615a4a7a5dffa95046cad7382f193d7'"
      ]
     },
     "execution_count": 5,
     "metadata": {},
     "output_type": "execute_result"
    }
   ],
   "source": [
    "unsigned_tx = serializable_unsigned_transaction_from_dict(transaction_dict)\n",
    "unsigned_tx_keccak_hash = unsigned_tx.hash()\n",
    "Web3.toHex(unsigned_tx_keccak_hash)"
   ]
  },
  {
   "cell_type": "code",
   "execution_count": 6,
   "metadata": {},
   "outputs": [
    {
     "data": {
      "text/plain": [
       "0"
      ]
     },
     "execution_count": 6,
     "metadata": {},
     "output_type": "execute_result"
    }
   ],
   "source": [
    "subprocess.run(f'echo {Web3.toHex(unsigned_tx_keccak_hash)[2:]} | xxd -r -p > unsigned_tx_keccak_hash', shell=True).returncode"
   ]
  },
  {
   "cell_type": "markdown",
   "metadata": {},
   "source": [
    "* **s** must be less than ```secp256k1n** / 2 + 1```\n",
    "* raw recovery ID (**v**) (0/1) role description: value 0 represents an even **y** value of elliptic curve signature, 1 is odd\n",
    "\n",
    "> it's not possible to get y from openssl, but this value can be only in [0,1]"
   ]
  },
  {
   "cell_type": "code",
   "execution_count": 7,
   "metadata": {},
   "outputs": [
    {
     "name": "stdout",
     "output_type": "stream",
     "text": [
      "E0A8E3763816BC330805FB21C28EB7F6F4321049CD075B6C0188BB08693EDDED\n",
      "5A1BBF40911D7CD154CB6BF4184820C718F2B3D9221018184ACD92461EC9BE81\n"
     ]
    }
   ],
   "source": [
    "secp256k1n = 115792089237316195423570985008687907852837564279074904382605163141518161494337\n",
    "s_num = secp256k1n\n",
    "while s_num > secp256k1n / 2:\n",
    "    subprocess.run('openssl pkeyutl -sign -inkey private_key.pem -in unsigned_tx_keccak_hash > signature', shell=True)\n",
    "    raw_output = subprocess.run('openssl asn1parse -inform DER -in signature', shell=True, capture_output=True).stdout.decode()\n",
    "    r_str, s_str = [x.split(':')[-1] for x in raw_output.split('\\n')[1:3]]\n",
    "    s_num = int(s_str, 16)\n",
    "print(r_str)\n",
    "print(s_str)"
   ]
  },
  {
   "cell_type": "markdown",
   "metadata": {},
   "source": [
    "Check if signature is valid:"
   ]
  },
  {
   "cell_type": "code",
   "execution_count": 8,
   "metadata": {},
   "outputs": [
    {
     "data": {
      "text/plain": [
       "True"
      ]
     },
     "execution_count": 8,
     "metadata": {},
     "output_type": "execute_result"
    }
   ],
   "source": [
    "ecdsa_raw_verify(\n",
    "    Web3.toBytes(unsigned_tx_keccak_hash),\n",
    "    [int(r_str, 16), int(s_str, 16)],\n",
    "    private_key_to_public_key(Web3.toBytes(hexstr=private_key_hexstr))\n",
    ")"
   ]
  },
  {
   "cell_type": "markdown",
   "metadata": {},
   "source": [
    "It must return your ethereum address:\n",
    "> if address does not match, try to change raw recovery ID (0,1)"
   ]
  },
  {
   "cell_type": "code",
   "execution_count": 10,
   "metadata": {},
   "outputs": [
    {
     "data": {
      "text/plain": [
       "'0x90c08087af274b77516df05952273008fea2c4b9'"
      ]
     },
     "execution_count": 10,
     "metadata": {},
     "output_type": "execute_result"
    }
   ],
   "source": [
    "v_raw = 0\n",
    "\n",
    "PublicKey(ecdsa_raw_recover(\n",
    "    Web3.toBytes(unsigned_tx_keccak_hash),\n",
    "    [v_raw, int(r_str, 16), int(s_str, 16)],\n",
    ")).to_address()"
   ]
  },
  {
   "cell_type": "markdown",
   "metadata": {},
   "source": [
    "RLP encode signed transaction, it's final step before you can send it"
   ]
  },
  {
   "cell_type": "code",
   "execution_count": 11,
   "metadata": {},
   "outputs": [
    {
     "data": {
      "text/plain": [
       "'0xf860048083030d4094bab021f651b216ae46f3f73f75df3c5cb91b631b018025a0e0a8e3763816bc330805fb21c28eb7f6f4321049cd075b6c0188bb08693eddeda05a1bbf40911d7cd154cb6bf4184820c718f2b3d9221018184acd92461ec9be81'"
      ]
     },
     "execution_count": 11,
     "metadata": {},
     "output_type": "execute_result"
    }
   ],
   "source": [
    "CHAIN_ID_OFFSET = 35\n",
    "v = v_raw + CHAIN_ID_OFFSET + 2 * CHAIN_ID # it's from yellow paper\n",
    "\n",
    "signed_tx = encode_transaction(\n",
    "    unsigned_tx,\n",
    "    vrs=(v,\n",
    "         int(r_str, 16),\n",
    "         int(s_str, 16)\n",
    "    )\n",
    ")\n",
    "Web3.toHex(signed_tx)"
   ]
  },
  {
   "cell_type": "markdown",
   "metadata": {},
   "source": [
    "## 5 Send signed transaction "
   ]
  },
  {
   "cell_type": "code",
   "execution_count": 12,
   "metadata": {
    "scrolled": false
   },
   "outputs": [
    {
     "data": {
      "text/plain": [
       "HexBytes('0xbae66447a67ffdf1233edb7f6de0546f7ed95baf26acf3328937494b534b1ea1')"
      ]
     },
     "execution_count": 12,
     "metadata": {},
     "output_type": "execute_result"
    }
   ],
   "source": [
    "tx_hash = w3.eth.sendRawTransaction(signed_tx)\n",
    "tx_hash"
   ]
  },
  {
   "cell_type": "code",
   "execution_count": 13,
   "metadata": {},
   "outputs": [
    {
     "data": {
      "text/plain": [
       "AttributeDict({'transactionHash': HexBytes('0xbae66447a67ffdf1233edb7f6de0546f7ed95baf26acf3328937494b534b1ea1'),\n",
       " 'transactionIndex': 0,\n",
       " 'blockHash': HexBytes('0x7426f667dae1be28317ab24825878ae5b4898f578304826a458d4bd0892e5401'),\n",
       " 'blockNumber': 5,\n",
       " 'from': '0x90c08087af274b77516df05952273008fea2c4b9',\n",
       " 'to': '0xbab021f651b216ae46f3f73f75df3c5cb91b631b',\n",
       " 'gasUsed': 21000,\n",
       " 'cumulativeGasUsed': 21000,\n",
       " 'contractAddress': None,\n",
       " 'logs': [],\n",
       " 'status': 1,\n",
       " 'logsBloom': HexBytes('0x00000000000000000000000000000000000000000000000000000000000000000000000000000000000000000000000000000000000000000000000000000000000000000000000000000000000000000000000000000000000000000000000000000000000000000000000000000000000000000000000000000000000000000000000000000000000000000000000000000000000000000000000000000000000000000000000000000000000000000000000000000000000000000000000000000000000000000000000000000000000000000000000000000000000000000000000000000000000000000000000000000000000000000000000000000000'),\n",
       " 'v': '0x25',\n",
       " 'r': '0xe0a8e3763816bc330805fb21c28eb7f6f4321049cd075b6c0188bb08693edded',\n",
       " 's': '0x5a1bbf40911d7cd154cb6bf4184820c718f2b3d9221018184acd92461ec9be81'})"
      ]
     },
     "execution_count": 13,
     "metadata": {},
     "output_type": "execute_result"
    }
   ],
   "source": [
    "w3.eth.getTransactionReceipt(tx_hash)"
   ]
  },
  {
   "cell_type": "code",
   "execution_count": null,
   "metadata": {},
   "outputs": [],
   "source": []
  }
 ],
 "metadata": {
  "kernelspec": {
   "display_name": "Python 3",
   "language": "python",
   "name": "python3"
  },
  "language_info": {
   "codemirror_mode": {
    "name": "ipython",
    "version": 3
   },
   "file_extension": ".py",
   "mimetype": "text/x-python",
   "name": "python",
   "nbconvert_exporter": "python",
   "pygments_lexer": "ipython3",
   "version": "3.7.3"
  }
 },
 "nbformat": 4,
 "nbformat_minor": 2
}
