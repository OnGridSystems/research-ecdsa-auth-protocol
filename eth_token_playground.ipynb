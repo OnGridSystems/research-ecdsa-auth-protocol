{
 "cells": [
  {
   "cell_type": "markdown",
   "metadata": {},
   "source": [
    "# Ethereum ERC-20 token playground\n",
    "## Prepare\n",
    "\n",
    "To interact with Ethereum network, you need Ethereum node up and running.\n",
    "You can run both notebook and ganache-cli node emulator by `./start.sh` script.\n",
    "\n",
    "To run ganache-cli Ethereum emulator in separate terminal\n",
    "`npx ganache-cli -m \"dawn finish orchard pluck festival genuine absorb van bike mirror kiss loop\"`\n",
    "(12 words are the seed passphrase to keep addresses and keys constant)"
   ]
  },
  {
   "cell_type": "markdown",
   "metadata": {},
   "source": [
    "## Connect to Web3\n",
    "Now connect to Ethereum provider via web3 RPC"
   ]
  },
  {
   "cell_type": "code",
   "execution_count": 53,
   "metadata": {},
   "outputs": [],
   "source": [
    "from web3 import Web3\n",
    "w3 = Web3(Web3.HTTPProvider('http://127.0.0.1:8545/'))\n",
    "w3.eth.defaultAccount = w3.eth.accounts[0]"
   ]
  },
  {
   "cell_type": "markdown",
   "metadata": {},
   "source": [
    "Check if web3 up and running. 0+ is ok"
   ]
  },
  {
   "cell_type": "code",
   "execution_count": 54,
   "metadata": {},
   "outputs": [
    {
     "data": {
      "text/plain": [
       "4"
      ]
     },
     "execution_count": 54,
     "metadata": {},
     "output_type": "execute_result"
    }
   ],
   "source": [
    "w3.eth.blockNumber"
   ]
  },
  {
   "cell_type": "markdown",
   "metadata": {},
   "source": [
    "## Write your Solidity code\n",
    "Now create or paste Solidity smart contract. You can compose it in Remix Solidity IDE .\n",
    "If you have imports you need to make it flat. Truffle-flattener tool will help to flatten your code."
   ]
  },
  {
   "cell_type": "code",
   "execution_count": 55,
   "metadata": {},
   "outputs": [],
   "source": [
    "contract_source_code = b\"\"\"\n",
    "\n",
    "pragma solidity ^0.5.2;\n",
    "\n",
    "/**\n",
    " * @title SafeMath\n",
    " * @dev Unsigned math operations with safety checks that revert on error\n",
    " */\n",
    "library SafeMath {\n",
    "    /**\n",
    "     * @dev Multiplies two unsigned integers, reverts on overflow.\n",
    "     */\n",
    "    function mul(uint256 a, uint256 b) internal pure returns (uint256) {\n",
    "        // Gas optimization: this is cheaper than requiring 'a' not being zero, but the\n",
    "        // benefit is lost if 'b' is also tested.\n",
    "        // See: https://github.com/OpenZeppelin/openzeppelin-solidity/pull/522\n",
    "        if (a == 0) {\n",
    "            return 0;\n",
    "        }\n",
    "\n",
    "        uint256 c = a * b;\n",
    "        require(c / a == b);\n",
    "\n",
    "        return c;\n",
    "    }\n",
    "\n",
    "    /**\n",
    "     * @dev Integer division of two unsigned integers truncating the quotient, reverts on division by zero.\n",
    "     */\n",
    "    function div(uint256 a, uint256 b) internal pure returns (uint256) {\n",
    "        // Solidity only automatically asserts when dividing by 0\n",
    "        require(b > 0);\n",
    "        uint256 c = a / b;\n",
    "        // assert(a == b * c + a % b); // There is no case in which this doesn't hold\n",
    "\n",
    "        return c;\n",
    "    }\n",
    "\n",
    "    /**\n",
    "     * @dev Subtracts two unsigned integers, reverts on overflow (i.e. if subtrahend is greater than minuend).\n",
    "     */\n",
    "    function sub(uint256 a, uint256 b) internal pure returns (uint256) {\n",
    "        require(b <= a);\n",
    "        uint256 c = a - b;\n",
    "\n",
    "        return c;\n",
    "    }\n",
    "\n",
    "    /**\n",
    "     * @dev Adds two unsigned integers, reverts on overflow.\n",
    "     */\n",
    "    function add(uint256 a, uint256 b) internal pure returns (uint256) {\n",
    "        uint256 c = a + b;\n",
    "        require(c >= a);\n",
    "\n",
    "        return c;\n",
    "    }\n",
    "\n",
    "    /**\n",
    "     * @dev Divides two unsigned integers and returns the remainder (unsigned integer modulo),\n",
    "     * reverts when dividing by zero.\n",
    "     */\n",
    "    function mod(uint256 a, uint256 b) internal pure returns (uint256) {\n",
    "        require(b != 0);\n",
    "        return a % b;\n",
    "    }\n",
    "}\n",
    "\n",
    "// File: openzeppelin-solidity/contracts/token/ERC20/IERC20.sol\n",
    "\n",
    "/**\n",
    " * @title ERC20 interface\n",
    " * @dev see https://eips.ethereum.org/EIPS/eip-20\n",
    " */\n",
    "interface IERC20 {\n",
    "    function transfer(address to, uint256 value) external returns (bool);\n",
    "\n",
    "    function approve(address spender, uint256 value) external returns (bool);\n",
    "\n",
    "    function transferFrom(address from, address to, uint256 value) external returns (bool);\n",
    "\n",
    "    function totalSupply() external view returns (uint256);\n",
    "\n",
    "    function balanceOf(address who) external view returns (uint256);\n",
    "\n",
    "    function allowance(address owner, address spender) external view returns (uint256);\n",
    "\n",
    "    event Transfer(address indexed from, address indexed to, uint256 value);\n",
    "\n",
    "    event Approval(address indexed owner, address indexed spender, uint256 value);\n",
    "}\n",
    "\n",
    "// File: openzeppelin-solidity/contracts/token/ERC20/ERC20.sol\n",
    "\n",
    "/**\n",
    " * @title Standard ERC20 token\n",
    " *\n",
    " * @dev Implementation of the basic standard token.\n",
    " * https://eips.ethereum.org/EIPS/eip-20\n",
    " * Originally based on code by FirstBlood:\n",
    " * https://github.com/Firstbloodio/token/blob/master/smart_contract/FirstBloodToken.sol\n",
    " *\n",
    " * This implementation emits additional Approval events, allowing applications to reconstruct the allowance status for\n",
    " * all accounts just by listening to said events. Note that this isn't required by the specification, and other\n",
    " * compliant implementations may not do it.\n",
    " */\n",
    "contract ERC20 is IERC20 {\n",
    "    using SafeMath for uint256;\n",
    "\n",
    "    mapping (address => uint256) private _balances;\n",
    "\n",
    "    mapping (address => mapping (address => uint256)) private _allowed;\n",
    "\n",
    "    uint256 private _totalSupply;\n",
    "\n",
    "    /**\n",
    "     * @dev Total number of tokens in existence\n",
    "     */\n",
    "    function totalSupply() public view returns (uint256) {\n",
    "        return _totalSupply;\n",
    "    }\n",
    "\n",
    "    /**\n",
    "     * @dev Gets the balance of the specified address.\n",
    "     * @param owner The address to query the balance of.\n",
    "     * @return A uint256 representing the amount owned by the passed address.\n",
    "     */\n",
    "    function balanceOf(address owner) public view returns (uint256) {\n",
    "        return _balances[owner];\n",
    "    }\n",
    "\n",
    "    /**\n",
    "     * @dev Function to check the amount of tokens that an owner allowed to a spender.\n",
    "     * @param owner address The address which owns the funds.\n",
    "     * @param spender address The address which will spend the funds.\n",
    "     * @return A uint256 specifying the amount of tokens still available for the spender.\n",
    "     */\n",
    "    function allowance(address owner, address spender) public view returns (uint256) {\n",
    "        return _allowed[owner][spender];\n",
    "    }\n",
    "\n",
    "    /**\n",
    "     * @dev Transfer token to a specified address\n",
    "     * @param to The address to transfer to.\n",
    "     * @param value The amount to be transferred.\n",
    "     */\n",
    "    function transfer(address to, uint256 value) public returns (bool) {\n",
    "        _transfer(msg.sender, to, value);\n",
    "        return true;\n",
    "    }\n",
    "\n",
    "    /**\n",
    "     * @dev Approve the passed address to spend the specified amount of tokens on behalf of msg.sender.\n",
    "     * Beware that changing an allowance with this method brings the risk that someone may use both the old\n",
    "     * and the new allowance by unfortunate transaction ordering. One possible solution to mitigate this\n",
    "     * race condition is to first reduce the spender's allowance to 0 and set the desired value afterwards:\n",
    "     * https://github.com/ethereum/EIPs/issues/20#issuecomment-263524729\n",
    "     * @param spender The address which will spend the funds.\n",
    "     * @param value The amount of tokens to be spent.\n",
    "     */\n",
    "    function approve(address spender, uint256 value) public returns (bool) {\n",
    "        _approve(msg.sender, spender, value);\n",
    "        return true;\n",
    "    }\n",
    "\n",
    "    /**\n",
    "     * @dev Transfer tokens from one address to another.\n",
    "     * Note that while this function emits an Approval event, this is not required as per the specification,\n",
    "     * and other compliant implementations may not emit the event.\n",
    "     * @param from address The address which you want to send tokens from\n",
    "     * @param to address The address which you want to transfer to\n",
    "     * @param value uint256 the amount of tokens to be transferred\n",
    "     */\n",
    "    function transferFrom(address from, address to, uint256 value) public returns (bool) {\n",
    "        _transfer(from, to, value);\n",
    "        _approve(from, msg.sender, _allowed[from][msg.sender].sub(value));\n",
    "        return true;\n",
    "    }\n",
    "\n",
    "    /**\n",
    "     * @dev Increase the amount of tokens that an owner allowed to a spender.\n",
    "     * approve should be called when _allowed[msg.sender][spender] == 0. To increment\n",
    "     * allowed value is better to use this function to avoid 2 calls (and wait until\n",
    "     * the first transaction is mined)\n",
    "     * From MonolithDAO Token.sol\n",
    "     * Emits an Approval event.\n",
    "     * @param spender The address which will spend the funds.\n",
    "     * @param addedValue The amount of tokens to increase the allowance by.\n",
    "     */\n",
    "    function increaseAllowance(address spender, uint256 addedValue) public returns (bool) {\n",
    "        _approve(msg.sender, spender, _allowed[msg.sender][spender].add(addedValue));\n",
    "        return true;\n",
    "    }\n",
    "\n",
    "    /**\n",
    "     * @dev Decrease the amount of tokens that an owner allowed to a spender.\n",
    "     * approve should be called when _allowed[msg.sender][spender] == 0. To decrement\n",
    "     * allowed value is better to use this function to avoid 2 calls (and wait until\n",
    "     * the first transaction is mined)\n",
    "     * From MonolithDAO Token.sol\n",
    "     * Emits an Approval event.\n",
    "     * @param spender The address which will spend the funds.\n",
    "     * @param subtractedValue The amount of tokens to decrease the allowance by.\n",
    "     */\n",
    "    function decreaseAllowance(address spender, uint256 subtractedValue) public returns (bool) {\n",
    "        _approve(msg.sender, spender, _allowed[msg.sender][spender].sub(subtractedValue));\n",
    "        return true;\n",
    "    }\n",
    "\n",
    "    /**\n",
    "     * @dev Transfer token for a specified addresses\n",
    "     * @param from The address to transfer from.\n",
    "     * @param to The address to transfer to.\n",
    "     * @param value The amount to be transferred.\n",
    "     */\n",
    "    function _transfer(address from, address to, uint256 value) internal {\n",
    "        require(to != address(0));\n",
    "\n",
    "        _balances[from] = _balances[from].sub(value);\n",
    "        _balances[to] = _balances[to].add(value);\n",
    "        emit Transfer(from, to, value);\n",
    "    }\n",
    "\n",
    "    /**\n",
    "     * @dev Internal function that mints an amount of the token and assigns it to\n",
    "     * an account. This encapsulates the modification of balances such that the\n",
    "     * proper events are emitted.\n",
    "     * @param account The account that will receive the created tokens.\n",
    "     * @param value The amount that will be created.\n",
    "     */\n",
    "    function _mint(address account, uint256 value) internal {\n",
    "        require(account != address(0));\n",
    "\n",
    "        _totalSupply = _totalSupply.add(value);\n",
    "        _balances[account] = _balances[account].add(value);\n",
    "        emit Transfer(address(0), account, value);\n",
    "    }\n",
    "\n",
    "    /**\n",
    "     * @dev Internal function that burns an amount of the token of a given\n",
    "     * account.\n",
    "     * @param account The account whose tokens will be burnt.\n",
    "     * @param value The amount that will be burnt.\n",
    "     */\n",
    "    function _burn(address account, uint256 value) internal {\n",
    "        require(account != address(0));\n",
    "\n",
    "        _totalSupply = _totalSupply.sub(value);\n",
    "        _balances[account] = _balances[account].sub(value);\n",
    "        emit Transfer(account, address(0), value);\n",
    "    }\n",
    "\n",
    "    /**\n",
    "     * @dev Approve an address to spend another addresses' tokens.\n",
    "     * @param owner The address that owns the tokens.\n",
    "     * @param spender The address that will spend the tokens.\n",
    "     * @param value The number of tokens that can be spent.\n",
    "     */\n",
    "    function _approve(address owner, address spender, uint256 value) internal {\n",
    "        require(spender != address(0));\n",
    "        require(owner != address(0));\n",
    "\n",
    "        _allowed[owner][spender] = value;\n",
    "        emit Approval(owner, spender, value);\n",
    "    }\n",
    "\n",
    "    /**\n",
    "     * @dev Internal function that burns an amount of the token of a given\n",
    "     * account, deducting from the sender's allowance for said account. Uses the\n",
    "     * internal burn function.\n",
    "     * Emits an Approval event (reflecting the reduced allowance).\n",
    "     * @param account The account whose tokens will be burnt.\n",
    "     * @param value The amount that will be burnt.\n",
    "     */\n",
    "    function _burnFrom(address account, uint256 value) internal {\n",
    "        _burn(account, value);\n",
    "        _approve(account, msg.sender, _allowed[account][msg.sender].sub(value));\n",
    "    }\n",
    "}\n",
    "\n",
    "// File: openzeppelin-solidity/contracts/token/ERC20/ERC20Burnable.sol\n",
    "\n",
    "/**\n",
    " * @title Burnable Token\n",
    " * @dev Token that can be irreversibly burned (destroyed).\n",
    " */\n",
    "contract ERC20Burnable is ERC20 {\n",
    "    /**\n",
    "     * @dev Burns a specific amount of tokens.\n",
    "     * @param value The amount of token to be burned.\n",
    "     */\n",
    "    function burn(uint256 value) public {\n",
    "        _burn(msg.sender, value);\n",
    "    }\n",
    "\n",
    "    /**\n",
    "     * @dev Burns a specific amount of tokens from the target address and decrements allowance\n",
    "     * @param from address The account whose tokens will be burned.\n",
    "     * @param value uint256 The amount of token to be burned.\n",
    "     */\n",
    "    function burnFrom(address from, uint256 value) public {\n",
    "        _burnFrom(from, value);\n",
    "    }\n",
    "}\n",
    "\n",
    "contract MintableToken is ERC20, ERC20Burnable {\n",
    "    string public name = \"Mintable Token\";\n",
    "    string public symbol = \"MTK\";\n",
    "    uint8 public decimals = 8;\n",
    "\n",
    "    /**\n",
    "     * @dev Function to mint tokens\n",
    "     * @param to The address that will receive the minted tokens.\n",
    "     * @param value The amount of tokens to mint.\n",
    "     * @return A boolean that indicates if the operation was successful.\n",
    "     */\n",
    "    function mint(address to, uint256 value) public returns (bool) {\n",
    "        _mint(to, value);\n",
    "        return true;\n",
    "    }\n",
    "}\n",
    "\n",
    "\"\"\""
   ]
  },
  {
   "cell_type": "markdown",
   "metadata": {},
   "source": [
    "## Compile\n",
    "To deploy the contract and programmatically interact with it, you should convert high-level Solidity code to:\n",
    "* EVM bytecode - binary code, will be deployed to mainet;\n",
    "* ABI artifact - JSON specification of contract interfaces - functions, args, events;\n",
    "Solc compiler has to be installed on your machine.\n",
    "For mac:\n",
    "\n",
    "```brew tap ethereum/ethereum\n",
    "brew install solidity```"
   ]
  },
  {
   "cell_type": "markdown",
   "metadata": {},
   "source": [
    "Check solidity version (should match pragma statement in your contract)"
   ]
  },
  {
   "cell_type": "code",
   "execution_count": 56,
   "metadata": {},
   "outputs": [
    {
     "data": {
      "text/plain": [
       "'0.5.9+commit.c68bc34e.Darwin.appleclang'"
      ]
     },
     "execution_count": 56,
     "metadata": {},
     "output_type": "execute_result"
    }
   ],
   "source": [
    "import subprocess, re, json\n",
    "solc = subprocess.Popen(['solc', '--version'], stdout=subprocess.PIPE, stdin=subprocess.PIPE)\n",
    "solc_output = solc.communicate()\n",
    "\n",
    "m = re.search(r\"Version: ([\\w\\.\\+]+)\", str(solc_output[0]))\n",
    "m.group(1)"
   ]
  },
  {
   "cell_type": "markdown",
   "metadata": {},
   "source": [
    "Actually compile and generate ABI"
   ]
  },
  {
   "cell_type": "code",
   "execution_count": 57,
   "metadata": {},
   "outputs": [],
   "source": [
    "solc = subprocess.Popen(['solc', '--combined-json', 'bin,abi', '-'], stdout=subprocess.PIPE, stdin=subprocess.PIPE)\n",
    "solc_output = solc.communicate(contract_source_code)"
   ]
  },
  {
   "cell_type": "markdown",
   "metadata": {},
   "source": [
    "See the contract bytecode"
   ]
  },
  {
   "cell_type": "code",
   "execution_count": 58,
   "metadata": {},
   "outputs": [
    {
     "data": {
      "text/plain": [
       "'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'"
      ]
     },
     "execution_count": 58,
     "metadata": {},
     "output_type": "execute_result"
    }
   ],
   "source": [
    "bytecode = json.loads(solc_output[0])['contracts']['<stdin>:MintableToken']['bin']\n",
    "bytecode"
   ]
  },
  {
   "cell_type": "markdown",
   "metadata": {},
   "source": [
    "See the contract ABI interfaces"
   ]
  },
  {
   "cell_type": "code",
   "execution_count": 59,
   "metadata": {},
   "outputs": [
    {
     "data": {
      "text/plain": [
       "'[{\"constant\":true,\"inputs\":[],\"name\":\"name\",\"outputs\":[{\"name\":\"\",\"type\":\"string\"}],\"payable\":false,\"stateMutability\":\"view\",\"type\":\"function\"},{\"constant\":false,\"inputs\":[{\"name\":\"spender\",\"type\":\"address\"},{\"name\":\"value\",\"type\":\"uint256\"}],\"name\":\"approve\",\"outputs\":[{\"name\":\"\",\"type\":\"bool\"}],\"payable\":false,\"stateMutability\":\"nonpayable\",\"type\":\"function\"},{\"constant\":true,\"inputs\":[],\"name\":\"totalSupply\",\"outputs\":[{\"name\":\"\",\"type\":\"uint256\"}],\"payable\":false,\"stateMutability\":\"view\",\"type\":\"function\"},{\"constant\":false,\"inputs\":[{\"name\":\"from\",\"type\":\"address\"},{\"name\":\"to\",\"type\":\"address\"},{\"name\":\"value\",\"type\":\"uint256\"}],\"name\":\"transferFrom\",\"outputs\":[{\"name\":\"\",\"type\":\"bool\"}],\"payable\":false,\"stateMutability\":\"nonpayable\",\"type\":\"function\"},{\"constant\":true,\"inputs\":[],\"name\":\"decimals\",\"outputs\":[{\"name\":\"\",\"type\":\"uint8\"}],\"payable\":false,\"stateMutability\":\"view\",\"type\":\"function\"},{\"constant\":false,\"inputs\":[{\"name\":\"spender\",\"type\":\"address\"},{\"name\":\"addedValue\",\"type\":\"uint256\"}],\"name\":\"increaseAllowance\",\"outputs\":[{\"name\":\"\",\"type\":\"bool\"}],\"payable\":false,\"stateMutability\":\"nonpayable\",\"type\":\"function\"},{\"constant\":false,\"inputs\":[{\"name\":\"to\",\"type\":\"address\"},{\"name\":\"value\",\"type\":\"uint256\"}],\"name\":\"mint\",\"outputs\":[{\"name\":\"\",\"type\":\"bool\"}],\"payable\":false,\"stateMutability\":\"nonpayable\",\"type\":\"function\"},{\"constant\":false,\"inputs\":[{\"name\":\"value\",\"type\":\"uint256\"}],\"name\":\"burn\",\"outputs\":[],\"payable\":false,\"stateMutability\":\"nonpayable\",\"type\":\"function\"},{\"constant\":true,\"inputs\":[{\"name\":\"owner\",\"type\":\"address\"}],\"name\":\"balanceOf\",\"outputs\":[{\"name\":\"\",\"type\":\"uint256\"}],\"payable\":false,\"stateMutability\":\"view\",\"type\":\"function\"},{\"constant\":false,\"inputs\":[{\"name\":\"from\",\"type\":\"address\"},{\"name\":\"value\",\"type\":\"uint256\"}],\"name\":\"burnFrom\",\"outputs\":[],\"payable\":false,\"stateMutability\":\"nonpayable\",\"type\":\"function\"},{\"constant\":true,\"inputs\":[],\"name\":\"symbol\",\"outputs\":[{\"name\":\"\",\"type\":\"string\"}],\"payable\":false,\"stateMutability\":\"view\",\"type\":\"function\"},{\"constant\":false,\"inputs\":[{\"name\":\"spender\",\"type\":\"address\"},{\"name\":\"subtractedValue\",\"type\":\"uint256\"}],\"name\":\"decreaseAllowance\",\"outputs\":[{\"name\":\"\",\"type\":\"bool\"}],\"payable\":false,\"stateMutability\":\"nonpayable\",\"type\":\"function\"},{\"constant\":false,\"inputs\":[{\"name\":\"to\",\"type\":\"address\"},{\"name\":\"value\",\"type\":\"uint256\"}],\"name\":\"transfer\",\"outputs\":[{\"name\":\"\",\"type\":\"bool\"}],\"payable\":false,\"stateMutability\":\"nonpayable\",\"type\":\"function\"},{\"constant\":true,\"inputs\":[{\"name\":\"owner\",\"type\":\"address\"},{\"name\":\"spender\",\"type\":\"address\"}],\"name\":\"allowance\",\"outputs\":[{\"name\":\"\",\"type\":\"uint256\"}],\"payable\":false,\"stateMutability\":\"view\",\"type\":\"function\"},{\"anonymous\":false,\"inputs\":[{\"indexed\":true,\"name\":\"from\",\"type\":\"address\"},{\"indexed\":true,\"name\":\"to\",\"type\":\"address\"},{\"indexed\":false,\"name\":\"value\",\"type\":\"uint256\"}],\"name\":\"Transfer\",\"type\":\"event\"},{\"anonymous\":false,\"inputs\":[{\"indexed\":true,\"name\":\"owner\",\"type\":\"address\"},{\"indexed\":true,\"name\":\"spender\",\"type\":\"address\"},{\"indexed\":false,\"name\":\"value\",\"type\":\"uint256\"}],\"name\":\"Approval\",\"type\":\"event\"}]'"
      ]
     },
     "execution_count": 59,
     "metadata": {},
     "output_type": "execute_result"
    }
   ],
   "source": [
    "abi = json.loads(solc_output[0])['contracts']['<stdin>:MintableToken']['abi']\n",
    "abi"
   ]
  },
  {
   "cell_type": "markdown",
   "metadata": {},
   "source": [
    "## Deploy\n",
    "Instantiate contract fabric and deploy the contract on the net"
   ]
  },
  {
   "cell_type": "code",
   "execution_count": 60,
   "metadata": {},
   "outputs": [
    {
     "data": {
      "text/plain": [
       "HexBytes('0x920f37f318f4cc7373cb42e932f55ffd52c1f2d741c53a0421cb6cbc75e888d8')"
      ]
     },
     "execution_count": 60,
     "metadata": {},
     "output_type": "execute_result"
    }
   ],
   "source": [
    "TokenContract = w3.eth.contract(abi=abi, bytecode=bytecode)\n",
    "tx_hash = TokenContract.constructor().transact()\n",
    "tx_hash"
   ]
  },
  {
   "cell_type": "markdown",
   "metadata": {},
   "source": [
    "Get Tx receipt (see the address of deployed contract)"
   ]
  },
  {
   "cell_type": "code",
   "execution_count": 61,
   "metadata": {},
   "outputs": [
    {
     "data": {
      "text/plain": [
       "AttributeDict({'transactionHash': HexBytes('0x920f37f318f4cc7373cb42e932f55ffd52c1f2d741c53a0421cb6cbc75e888d8'),\n",
       " 'transactionIndex': 0,\n",
       " 'blockHash': HexBytes('0x7ae037ad701b63536242fa0d21cfc5e1e2b7f9a005337072513b1c298b800162'),\n",
       " 'blockNumber': 5,\n",
       " 'from': '0x90c08087af274b77516df05952273008fea2c4b9',\n",
       " 'to': None,\n",
       " 'gasUsed': 1326988,\n",
       " 'cumulativeGasUsed': 1326988,\n",
       " 'contractAddress': '0xF7a848FFf7a333D53B7F9B0077BD4D031B40A73b',\n",
       " 'logs': [],\n",
       " 'status': 1,\n",
       " 'logsBloom': HexBytes('0x00000000000000000000000000000000000000000000000000000000000000000000000000000000000000000000000000000000000000000000000000000000000000000000000000000000000000000000000000000000000000000000000000000000000000000000000000000000000000000000000000000000000000000000000000000000000000000000000000000000000000000000000000000000000000000000000000000000000000000000000000000000000000000000000000000000000000000000000000000000000000000000000000000000000000000000000000000000000000000000000000000000000000000000000000000000'),\n",
       " 'v': '0x1c',\n",
       " 'r': '0xab4cd51e247b6f0b0d0f8608c9007f6cbb6fbed075bcc37bc8297b24c966e76c',\n",
       " 's': '0x5754a992e4eb7d79ce4e11a07ad01718e21dca963ab8d8883663a724c72bd899'})"
      ]
     },
     "execution_count": 61,
     "metadata": {},
     "output_type": "execute_result"
    }
   ],
   "source": [
    "tx_receipt = w3.eth.waitForTransactionReceipt(tx_hash)\n",
    "tx_receipt"
   ]
  },
  {
   "cell_type": "markdown",
   "metadata": {},
   "source": [
    "Initialize contract instance at given address"
   ]
  },
  {
   "cell_type": "code",
   "execution_count": 62,
   "metadata": {},
   "outputs": [
    {
     "data": {
      "text/plain": [
       "<web3.utils.datatypes.Contract at 0x10e1308d0>"
      ]
     },
     "execution_count": 62,
     "metadata": {},
     "output_type": "execute_result"
    }
   ],
   "source": [
    "token = w3.eth.contract(\n",
    "    address=tx_receipt.contractAddress,\n",
    "    abi=abi,\n",
    ")\n",
    "token"
   ]
  },
  {
   "cell_type": "markdown",
   "metadata": {},
   "source": [
    "## Interact with the contract\n",
    "Call the contract methods (read). It doesn't initiate transactions."
   ]
  },
  {
   "cell_type": "markdown",
   "metadata": {},
   "source": [
    "Symbol allows to identify your contract on exchanges and in wallets"
   ]
  },
  {
   "cell_type": "code",
   "execution_count": 63,
   "metadata": {},
   "outputs": [
    {
     "data": {
      "text/plain": [
       "'MTK'"
      ]
     },
     "execution_count": 63,
     "metadata": {},
     "output_type": "execute_result"
    }
   ],
   "source": [
    "token.functions.symbol().call()"
   ]
  },
  {
   "cell_type": "markdown",
   "metadata": {},
   "source": [
    "Decimal defines the divisibility.\n",
    "8 decimals means that 1 token contains 100000000 minimal items"
   ]
  },
  {
   "cell_type": "code",
   "execution_count": 64,
   "metadata": {},
   "outputs": [
    {
     "data": {
      "text/plain": [
       "8"
      ]
     },
     "execution_count": 64,
     "metadata": {},
     "output_type": "execute_result"
    }
   ],
   "source": [
    "decimals = token.functions.decimals().call()\n",
    "decimals"
   ]
  },
  {
   "cell_type": "markdown",
   "metadata": {},
   "source": [
    "No tokens were issued at the moment "
   ]
  },
  {
   "cell_type": "code",
   "execution_count": 65,
   "metadata": {},
   "outputs": [
    {
     "data": {
      "text/plain": [
       "0"
      ]
     },
     "execution_count": 65,
     "metadata": {},
     "output_type": "execute_result"
    }
   ],
   "source": [
    "token.functions.totalSupply().call()"
   ]
  },
  {
   "cell_type": "markdown",
   "metadata": {},
   "source": [
    "Account0's balance is empty,"
   ]
  },
  {
   "cell_type": "code",
   "execution_count": 66,
   "metadata": {},
   "outputs": [
    {
     "data": {
      "text/plain": [
       "0"
      ]
     },
     "execution_count": 66,
     "metadata": {},
     "output_type": "execute_result"
    }
   ],
   "source": [
    "token.functions.balanceOf(w3.eth.accounts[0]).call()"
   ]
  },
  {
   "cell_type": "markdown",
   "metadata": {},
   "source": [
    "## Transact\n",
    "run transactions to the contract (write) and check the effect.\n",
    "\n",
    "The following transaction creates (\"mints\") 100 new tokens for given address."
   ]
  },
  {
   "cell_type": "code",
   "execution_count": 67,
   "metadata": {
    "scrolled": true
   },
   "outputs": [
    {
     "data": {
      "text/plain": [
       "HexBytes('0x3603f0ec61b00f84e32f70b607d937e38e5f695e234fa95587d636a45dd80afe')"
      ]
     },
     "execution_count": 67,
     "metadata": {},
     "output_type": "execute_result"
    }
   ],
   "source": [
    "tx_hash = token.functions.mint(w3.eth.accounts[0], 100 * 10 ** decimals).transact()\n",
    "tx_hash"
   ]
  },
  {
   "cell_type": "code",
   "execution_count": 68,
   "metadata": {},
   "outputs": [
    {
     "data": {
      "text/plain": [
       "AttributeDict({'transactionHash': HexBytes('0x3603f0ec61b00f84e32f70b607d937e38e5f695e234fa95587d636a45dd80afe'),\n",
       " 'transactionIndex': 0,\n",
       " 'blockHash': HexBytes('0x615117aa3c57d0dfcc15c89e48eabc93070741d235dd57a177949ea8af90d408'),\n",
       " 'blockNumber': 6,\n",
       " 'from': '0x90c08087af274b77516df05952273008fea2c4b9',\n",
       " 'to': '0xf7a848fff7a333d53b7f9b0077bd4d031b40a73b',\n",
       " 'gasUsed': 66225,\n",
       " 'cumulativeGasUsed': 66225,\n",
       " 'contractAddress': None,\n",
       " 'logs': [AttributeDict({'logIndex': 0,\n",
       "   'transactionIndex': 0,\n",
       "   'transactionHash': HexBytes('0x3603f0ec61b00f84e32f70b607d937e38e5f695e234fa95587d636a45dd80afe'),\n",
       "   'blockHash': HexBytes('0x615117aa3c57d0dfcc15c89e48eabc93070741d235dd57a177949ea8af90d408'),\n",
       "   'blockNumber': 6,\n",
       "   'address': '0xF7a848FFf7a333D53B7F9B0077BD4D031B40A73b',\n",
       "   'data': '0x00000000000000000000000000000000000000000000000000000002540be400',\n",
       "   'topics': [HexBytes('0xddf252ad1be2c89b69c2b068fc378daa952ba7f163c4a11628f55a4df523b3ef'),\n",
       "    HexBytes('0x0000000000000000000000000000000000000000000000000000000000000000'),\n",
       "    HexBytes('0x00000000000000000000000090c08087af274b77516df05952273008fea2c4b9')],\n",
       "   'type': 'mined'})],\n",
       " 'status': 1,\n",
       " 'logsBloom': HexBytes('0x00000000000000000000000000000000000000000000000000000000000000000000000000000000000000000000000000000000000000000000000000000000000000000000000000000008000000000000000000000000000000000000000000000000020000000000000000000800000000000000000000000010000000000000000008000000000000000000000000000000000000000000000000040020000000000000000000000000000000000000000000000000000000000000000000000002000000000000000000000000000400000000000000000000000820000000000000000000000000000000000000000000000000000000080000000000'),\n",
       " 'v': '0x1c',\n",
       " 'r': '0x7371266fac07ff671ea6fef91ea13c23526f97c984277a305d5e95bda05ff017',\n",
       " 's': '0x061e2d103e54ca9e16b07d8ea9468d4379bed71f3437963f7541bcc05ae7e1e6'})"
      ]
     },
     "execution_count": 68,
     "metadata": {},
     "output_type": "execute_result"
    }
   ],
   "source": [
    "tx_receipt = w3.eth.waitForTransactionReceipt(tx_hash)\n",
    "tx_receipt"
   ]
  },
  {
   "cell_type": "markdown",
   "metadata": {},
   "source": [
    "## Read the new value\n",
    "Now tokenholder has all the amount of just created tokens"
   ]
  },
  {
   "cell_type": "code",
   "execution_count": 69,
   "metadata": {},
   "outputs": [
    {
     "data": {
      "text/plain": [
       "100.0"
      ]
     },
     "execution_count": 69,
     "metadata": {},
     "output_type": "execute_result"
    }
   ],
   "source": [
    "token.functions.balanceOf(w3.eth.accounts[0]).call() / 10 ** decimals"
   ]
  },
  {
   "cell_type": "markdown",
   "metadata": {},
   "source": [
    "and able to transfer some amount to another address"
   ]
  },
  {
   "cell_type": "code",
   "execution_count": 70,
   "metadata": {},
   "outputs": [
    {
     "data": {
      "text/plain": [
       "HexBytes('0x6a34be3d68492ed4f8c1cc64b07e58d571ba7216193eb7444d572628294aff08')"
      ]
     },
     "execution_count": 70,
     "metadata": {},
     "output_type": "execute_result"
    }
   ],
   "source": [
    "tx_hash = token.functions.transfer(w3.eth.accounts[1], 60 * 10 ** decimals).transact()\n",
    "tx_hash"
   ]
  },
  {
   "cell_type": "code",
   "execution_count": 71,
   "metadata": {},
   "outputs": [
    {
     "data": {
      "text/plain": [
       "HexBytes('0x6a34be3d68492ed4f8c1cc64b07e58d571ba7216193eb7444d572628294aff08')"
      ]
     },
     "execution_count": 71,
     "metadata": {},
     "output_type": "execute_result"
    }
   ],
   "source": [
    "tx_hash"
   ]
  },
  {
   "cell_type": "markdown",
   "metadata": {},
   "source": [
    "See tx receipt"
   ]
  },
  {
   "cell_type": "code",
   "execution_count": 72,
   "metadata": {},
   "outputs": [
    {
     "data": {
      "text/plain": [
       "AttributeDict({'transactionHash': HexBytes('0x6a34be3d68492ed4f8c1cc64b07e58d571ba7216193eb7444d572628294aff08'),\n",
       " 'transactionIndex': 0,\n",
       " 'blockHash': HexBytes('0x13867dc00ec799d12e088f26741936b0b404ae775ec0171563ffe83acad019b0'),\n",
       " 'blockNumber': 7,\n",
       " 'from': '0x90c08087af274b77516df05952273008fea2c4b9',\n",
       " 'to': '0xf7a848fff7a333d53b7f9b0077bd4d031b40a73b',\n",
       " 'gasUsed': 51386,\n",
       " 'cumulativeGasUsed': 51386,\n",
       " 'contractAddress': None,\n",
       " 'logs': [AttributeDict({'logIndex': 0,\n",
       "   'transactionIndex': 0,\n",
       "   'transactionHash': HexBytes('0x6a34be3d68492ed4f8c1cc64b07e58d571ba7216193eb7444d572628294aff08'),\n",
       "   'blockHash': HexBytes('0x13867dc00ec799d12e088f26741936b0b404ae775ec0171563ffe83acad019b0'),\n",
       "   'blockNumber': 7,\n",
       "   'address': '0xF7a848FFf7a333D53B7F9B0077BD4D031B40A73b',\n",
       "   'data': '0x0000000000000000000000000000000000000000000000000000000165a0bc00',\n",
       "   'topics': [HexBytes('0xddf252ad1be2c89b69c2b068fc378daa952ba7f163c4a11628f55a4df523b3ef'),\n",
       "    HexBytes('0x00000000000000000000000090c08087af274b77516df05952273008fea2c4b9'),\n",
       "    HexBytes('0x000000000000000000000000bab021f651b216ae46f3f73f75df3c5cb91b631b')],\n",
       "   'type': 'mined'})],\n",
       " 'status': 1,\n",
       " 'logsBloom': HexBytes('0x00000000000000000000000000000000000000000000000000000000000000000000000000000000000000000000000000000000000000000000000000000000000000000000000000000008000000000000000000000000000400000000000000000000000000000000000000000000000000000000000000000010000000000000000008000000000000000000000000000000000000000000000000040020000000000000000000000000000000000000000000000000000000000000000000000002000000000000000000000000000400000000000000000000000800200000000000000000000000000000000000000000000000000001080000000000'),\n",
       " 'v': '0x1b',\n",
       " 'r': '0x8fa485b8a0273d0437c2eb34e5f235ebf84f34eb0832f89a8a682c1e5fa26a60',\n",
       " 's': '0x69e2e1b94a591cea142ea248746baa08806a7b25854a9bc01d716ac2ea7c726b'})"
      ]
     },
     "execution_count": 72,
     "metadata": {},
     "output_type": "execute_result"
    }
   ],
   "source": [
    "tx_receipt = w3.eth.waitForTransactionReceipt(tx_hash)\n",
    "tx_receipt"
   ]
  },
  {
   "cell_type": "markdown",
   "metadata": {},
   "source": [
    "and the resulting balances are 60 and 40"
   ]
  },
  {
   "cell_type": "code",
   "execution_count": 74,
   "metadata": {},
   "outputs": [
    {
     "data": {
      "text/plain": [
       "(40.0, 60.0)"
      ]
     },
     "execution_count": 74,
     "metadata": {},
     "output_type": "execute_result"
    }
   ],
   "source": [
    "acct_zero_tokens = token.functions.balanceOf(w3.eth.accounts[0]).call() / 10 ** decimals\n",
    "acct_one_tokens = token.functions.balanceOf(w3.eth.accounts[1]).call() / 10 ** decimals\n",
    "acct_zero_tokens, acct_one_tokens"
   ]
  },
  {
   "cell_type": "code",
   "execution_count": null,
   "metadata": {},
   "outputs": [],
   "source": []
  }
 ],
 "metadata": {
  "kernelspec": {
   "display_name": "Python 3",
   "language": "python",
   "name": "python3"
  },
  "language_info": {
   "codemirror_mode": {
    "name": "ipython",
    "version": 3
   },
   "file_extension": ".py",
   "mimetype": "text/x-python",
   "name": "python",
   "nbconvert_exporter": "python",
   "pygments_lexer": "ipython3",
   "version": "3.7.3"
  }
 },
 "nbformat": 4,
 "nbformat_minor": 2
}
