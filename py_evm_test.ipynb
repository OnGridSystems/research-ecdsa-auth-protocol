{
 "cells": [
  {
   "cell_type": "markdown",
   "id": "radio-oxygen",
   "metadata": {},
   "source": [
    "## Compile test contract"
   ]
  },
  {
   "cell_type": "code",
   "execution_count": 4,
   "id": "fitting-conservative",
   "metadata": {},
   "outputs": [
    {
     "name": "stdout",
     "output_type": "stream",
     "text": [
      "(b'0.8.0+commit.c7dfd78e.Emscripten.clang\\n', None)\n",
      "BIN: 608060405234801561001057600080fd5b5060c38061001f6000396000f3fe6080604052348015600f57600080fd5b506004361060325760003560e01c806360fe47b11460375780636d4ce63c146048575b600080fd5b60466042366004606d565b6062565b005b604e6067565b604051605991906084565b60405180910390f35b600055565b60005490565b600060208284031215607d578081fd5b5035919050565b9081526020019056fea26469706673582212208f3a7502510a9a92e501e850398317afae3357045dfb3e45216741a917f43ad064736f6c63430008000033\n",
      "ABI: [{\"inputs\":[],\"name\":\"get\",\"outputs\":[{\"internalType\":\"uint256\",\"name\":\"\",\"type\":\"uint256\"}],\"stateMutability\":\"view\",\"type\":\"function\"},{\"inputs\":[{\"internalType\":\"uint256\",\"name\":\"x\",\"type\":\"uint256\"}],\"name\":\"set\",\"outputs\":[],\"stateMutability\":\"nonpayable\",\"type\":\"function\"}]\n"
     ]
    }
   ],
   "source": [
    "import subprocess\n",
    "solc = subprocess.Popen(['npx', 'solcjs', '--version'], stdout=subprocess.PIPE, stdin=subprocess.PIPE)\n",
    "print(solc.communicate())\n",
    "\n",
    "contract_source = b\"\"\"\n",
    "// SPDX-License-Identifier: GPL-3.0\n",
    "pragma solidity >=0.4.16 <0.9.0;\n",
    "\n",
    "contract SimpleStorage {\n",
    "    uint storedData;\n",
    "\n",
    "    function set(uint x) public {\n",
    "        storedData = x;\n",
    "    }\n",
    "\n",
    "    function get() public view returns (uint) {\n",
    "        return storedData;\n",
    "    }\n",
    "}\n",
    "\"\"\"\n",
    "\n",
    "# create tmp file to compile\n",
    "with open('tmp.sol', 'wb') as f:\n",
    "    f.write(contract_source)\n",
    "\n",
    "# compile contract\n",
    "solc = subprocess.run('npx solcjs --optimize --bin --abi tmp.sol', shell=True, check=True)\n",
    "\n",
    "# extract artifacts\n",
    "with open('tmp_sol_SimpleStorage.bin', 'r') as bin:\n",
    "    contract_bin = bin.read()\n",
    "with open('tmp_sol_SimpleStorage.abi', 'r') as abi:\n",
    "    contract_abi = abi.read()\n",
    "\n",
    "# remove tmp files\n",
    "import glob, os\n",
    "for f in glob.glob(\"tmp*\"):\n",
    "    os.remove(f)\n",
    "\n",
    "print('BIN:', contract_bin)\n",
    "print('ABI:', contract_abi)"
   ]
  },
  {
   "cell_type": "markdown",
   "id": "selective-doctor",
   "metadata": {},
   "source": [
    "## 1. Pure pyevm way (WIP)"
   ]
  },
  {
   "cell_type": "markdown",
   "id": "silver-mandate",
   "metadata": {},
   "source": [
    "### Imports"
   ]
  },
  {
   "cell_type": "code",
   "execution_count": 27,
   "id": "satisfied-nylon",
   "metadata": {},
   "outputs": [],
   "source": [
    "from eth_keys import keys\n",
    "from eth_utils import decode_hex\n",
    "from eth_typing import Address\n",
    "from eth import constants\n",
    "from eth.chains.base import MiningChain\n",
    "from eth.consensus.pow import mine_pow_nonce\n",
    "from eth.vm.forks.byzantium import ByzantiumVM\n",
    "from eth.db.atomic import AtomicDB"
   ]
  },
  {
   "cell_type": "markdown",
   "id": "rural-current",
   "metadata": {},
   "source": [
    "### Chain genesis settings"
   ]
  },
  {
   "cell_type": "code",
   "execution_count": 28,
   "id": "funky-stand",
   "metadata": {},
   "outputs": [],
   "source": [
    "# VM params\n",
    "GENESIS_PARAMS = {\n",
    "    'parent_hash': constants.GENESIS_PARENT_HASH,\n",
    "    'uncles_hash': constants.EMPTY_UNCLE_HASH,\n",
    "    'coinbase': constants.ZERO_ADDRESS,\n",
    "    'transaction_root': constants.BLANK_ROOT_HASH,\n",
    "    'receipt_root': constants.BLANK_ROOT_HASH,\n",
    "    'difficulty': 1,\n",
    "    'block_number': constants.GENESIS_BLOCK_NUMBER,\n",
    "    'gas_limit': 3141592,\n",
    "    'timestamp': 1514764800,\n",
    "    'extra_data': constants.GENESIS_EXTRA_DATA,\n",
    "    'nonce': constants.GENESIS_NONCE\n",
    "}\n",
    "\n",
    "# VM genesis state\n",
    "DEPLOYER_PRIVATE_KEY = keys.PrivateKey(\n",
    "    decode_hex('0x45a915e4d060149eb4365960e6a7a45f334393093061116b197e3240065ff2d8')\n",
    ")\n",
    "DEPLOYER_ADDRESS = Address(SENDER_PRIVATE_KEY.public_key.to_canonical_address())\n",
    "DEFAULT_INITIAL_BALANCE = to_wei(10000, 'ether')\n",
    "\n",
    "GENESIS_STATE = {\n",
    "    DEPLOYER_ADDRESS: {\n",
    "        \"balance\": DEFAULT_INITIAL_BALANCE,\n",
    "        \"nonce\": 0,\n",
    "        \"code\": b'',\n",
    "        \"storage\": {}\n",
    "    }\n",
    "}"
   ]
  },
  {
   "cell_type": "markdown",
   "id": "medical-forge",
   "metadata": {},
   "source": [
    "### Chain init"
   ]
  },
  {
   "cell_type": "code",
   "execution_count": 46,
   "id": "loose-baseline",
   "metadata": {},
   "outputs": [],
   "source": [
    "klass = MiningChain.configure(\n",
    "    __name__='TestChain',\n",
    "    vm_configuration=(\n",
    "        (constants.GENESIS_BLOCK_NUMBER, ByzantiumVM),\n",
    "    ))\n",
    "chain = klass.from_genesis(AtomicDB(), GENESIS_PARAMS, GENESIS_STATE)"
   ]
  },
  {
   "cell_type": "markdown",
   "id": "actual-punch",
   "metadata": {},
   "source": [
    "### Check deployer's balance"
   ]
  },
  {
   "cell_type": "code",
   "execution_count": 47,
   "id": "mechanical-boston",
   "metadata": {},
   "outputs": [
    {
     "name": "stdout",
     "output_type": "stream",
     "text": [
      "The balance of address 0xa94f5374fce5edbc8e2a8697c15331677e6ebf0b is 10000000000000000000000 wei\n"
     ]
    }
   ],
   "source": [
    "mock_address_balance = chain.get_vm().state.get_balance(DEPLOYER_ADDRESS)\n",
    "\n",
    "print(\"The balance of address {} is {} wei\".format(\n",
    "    encode_hex(DEPLOYER_ADDRESS),\n",
    "    mock_address_balance)\n",
    ")"
   ]
  },
  {
   "cell_type": "markdown",
   "id": "expensive-lincoln",
   "metadata": {},
   "source": [
    "### Deploy contract"
   ]
  },
  {
   "cell_type": "code",
   "execution_count": 89,
   "id": "billion-vulnerability",
   "metadata": {},
   "outputs": [
    {
     "name": "stdout",
     "output_type": "stream",
     "text": [
      "Block #4-0x6b8d..9e23\n",
      "Receipt(state_root=b'\\x01', gas_used=51736, bloom=0, logs=())\n",
      "<eth.vm.forks.byzantium.computation.ByzantiumComputation object at 0x7f91849a0320>\n"
     ]
    },
    {
     "data": {
      "text/plain": [
       "0"
      ]
     },
     "execution_count": 89,
     "metadata": {},
     "output_type": "execute_result"
    }
   ],
   "source": [
    "vm = chain.get_vm()\n",
    "nonce = vm.state.get_nonce(DEPLOYER_ADDRESS)\n",
    "\n",
    "tx = vm.create_unsigned_transaction(\n",
    "    nonce=nonce,\n",
    "    gas_price=0,\n",
    "    gas=100000,\n",
    "    to=constants.ZERO_ADDRESS,\n",
    "    value=0,\n",
    "    data=contract_bin,\n",
    ")\n",
    "signed_tx = tx.as_signed_transaction(DEPLOYER_PRIVATE_KEY)\n",
    "\n",
    "new_block, receipt, computation = chain.apply_transaction(signed_tx)\n",
    "\n",
    "print(new_block)\n",
    "print(receipt)\n",
    "print(computation)\n",
    "\n",
    "int.from_bytes(computation.output, byteorder='big')"
   ]
  },
  {
   "cell_type": "markdown",
   "id": "moderate-insulation",
   "metadata": {},
   "source": [
    "### Mine blocks"
   ]
  },
  {
   "cell_type": "code",
   "execution_count": 86,
   "id": "everyday-belle",
   "metadata": {},
   "outputs": [
    {
     "data": {
      "text/plain": [
       "<ByzantiumBlock(#Block #3-0xd821..3cdf)>"
      ]
     },
     "execution_count": 86,
     "metadata": {},
     "output_type": "execute_result"
    }
   ],
   "source": [
    "block_result = chain.get_vm().finalize_block(chain.get_block())\n",
    "block = block_result.block\n",
    "\n",
    "# based on mining_hash, block number and difficulty we can perform\n",
    "# the actual Proof of Work (PoW) mechanism to mine the correct\n",
    "# nonce and mix_hash for this block\n",
    "nonce, mix_hash = mine_pow_nonce(\n",
    "    block.number,\n",
    "    block.header.mining_hash,\n",
    "    block.header.difficulty\n",
    ")\n",
    "\n",
    "chain.mine_block(mix_hash=mix_hash, nonce=nonce)"
   ]
  },
  {
   "cell_type": "markdown",
   "id": "improved-connectivity",
   "metadata": {},
   "source": [
    "## 2. PyEVM + web3"
   ]
  },
  {
   "cell_type": "markdown",
   "id": "amateur-storm",
   "metadata": {},
   "source": [
    "### Imports"
   ]
  },
  {
   "cell_type": "code",
   "execution_count": 1,
   "id": "parliamentary-sunrise",
   "metadata": {},
   "outputs": [],
   "source": [
    "from web3 import Web3\n",
    "from web3.providers.eth_tester import EthereumTesterProvider\n",
    "from eth_tester import EthereumTester\n",
    "from eth_tester import PyEVMBackend"
   ]
  },
  {
   "cell_type": "markdown",
   "id": "scheduled-functionality",
   "metadata": {},
   "source": [
    "### Just connect web3 to PyEVMBackend to get web3 instance"
   ]
  },
  {
   "cell_type": "code",
   "execution_count": 2,
   "id": "popular-inspection",
   "metadata": {},
   "outputs": [],
   "source": [
    "w3 = Web3(EthereumTesterProvider(EthereumTester(PyEVMBackend())))"
   ]
  },
  {
   "cell_type": "markdown",
   "id": "clear-tunnel",
   "metadata": {},
   "source": [
    "### Deploy contract"
   ]
  },
  {
   "cell_type": "code",
   "execution_count": 5,
   "id": "valued-newman",
   "metadata": {},
   "outputs": [],
   "source": [
    "contract = w3.eth.contract(bytecode=contract_bin, abi=contract_abi)\n",
    "tx_hash = contract.constructor().transact()\n",
    "tx_rcpt = w3.eth.waitForTransactionReceipt(tx_hash)\n",
    "contract_address = tx_rcpt.contractAddress\n",
    "\n",
    "test_contract = w3.eth.contract(\n",
    "    address=contract_address,\n",
    "    abi=contract_abi,\n",
    ")"
   ]
  },
  {
   "cell_type": "markdown",
   "id": "ranking-horror",
   "metadata": {},
   "source": [
    "### Do anything"
   ]
  },
  {
   "cell_type": "code",
   "execution_count": 6,
   "id": "french-aquatic",
   "metadata": {},
   "outputs": [
    {
     "name": "stdout",
     "output_type": "stream",
     "text": [
      "1\n",
      "2\n",
      "3\n",
      "Gas cost execution: 33381\n"
     ]
    }
   ],
   "source": [
    "tx_hash = test_contract.functions.set(1).transact()\n",
    "tx_rcpt = w3.eth.waitForTransactionReceipt(tx_hash)\n",
    "print(test_contract.functions.get().call())\n",
    "\n",
    "tx_hash = test_contract.functions.set(2).transact()\n",
    "tx_rcpt = w3.eth.waitForTransactionReceipt(tx_hash)\n",
    "print(test_contract.functions.get().call())\n",
    "\n",
    "tx_hash = test_contract.functions.set(3).transact()\n",
    "tx_rcpt = w3.eth.waitForTransactionReceipt(tx_hash)\n",
    "print(test_contract.functions.get().call())\n",
    "\n",
    "gas = test_contract.functions.set(2).estimateGas()\n",
    "print('Gas cost execution:', gas)"
   ]
  },
  {
   "cell_type": "code",
   "execution_count": null,
   "id": "supreme-flashing",
   "metadata": {},
   "outputs": [],
   "source": []
  }
 ],
 "metadata": {
  "kernelspec": {
   "display_name": "Python 3",
   "language": "python",
   "name": "python3"
  },
  "language_info": {
   "codemirror_mode": {
    "name": "ipython",
    "version": 3
   },
   "file_extension": ".py",
   "mimetype": "text/x-python",
   "name": "python",
   "nbconvert_exporter": "python",
   "pygments_lexer": "ipython3",
   "version": "3.6.12"
  }
 },
 "nbformat": 4,
 "nbformat_minor": 5
}
