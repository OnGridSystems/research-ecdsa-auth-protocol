{
 "cells": [
  {
   "cell_type": "markdown",
   "metadata": {},
   "source": [
    "# Ethereum DAICO helper\n",
    "Watches DAICO parameters"
   ]
  },
  {
   "cell_type": "code",
   "execution_count": 1,
   "metadata": {},
   "outputs": [],
   "source": [
    "token_address = '0xF71d36E9Ffaa54394015c718C75B5CC323F55EC1'\n",
    "keeper_address = '0x609D6f40EeD97Ec8A96cb9bca78d73caa6225b8A'"
   ]
  },
  {
   "cell_type": "markdown",
   "metadata": {},
   "source": [
    "## Connect to Web3\n",
    "Now connect to Ethereum provider via infura web3 RPC"
   ]
  },
  {
   "cell_type": "code",
   "execution_count": 2,
   "metadata": {},
   "outputs": [],
   "source": [
    "from web3 import Web3\n",
    "w3 = Web3(Web3.HTTPProvider('https://mainnet.infura.io/v3/b43f89fc090e492c91930334fc4ca30d'))"
   ]
  },
  {
   "cell_type": "markdown",
   "metadata": {},
   "source": [
    "Check if web3 up and running"
   ]
  },
  {
   "cell_type": "code",
   "execution_count": 3,
   "metadata": {},
   "outputs": [
    {
     "data": {
      "text/plain": [
       "7946490"
      ]
     },
     "execution_count": 3,
     "metadata": {},
     "output_type": "execute_result"
    }
   ],
   "source": [
    "w3.eth.getBlock('latest')['number']"
   ]
  },
  {
   "cell_type": "markdown",
   "metadata": {},
   "source": [
    "## Solidity code of contracts\n",
    "from [skyway-contracts](https://github.com/OnGridSystems/skyway-contracts) repo\n",
    "flattened by truffle-flattener\n",
    "### Keeper"
   ]
  },
  {
   "cell_type": "code",
   "execution_count": 4,
   "metadata": {},
   "outputs": [],
   "source": [
    "keeper_source_code = b\"\"\"\n",
    "\n",
    "\n",
    "// File: openzeppelin-solidity/contracts/math/SafeMath.sol\n",
    "\n",
    "pragma solidity ^0.5.2;\n",
    "\n",
    "/**\n",
    " * @title SafeMath\n",
    " * @dev Unsigned math operations with safety checks that revert on error\n",
    " */\n",
    "library SafeMath {\n",
    "    /**\n",
    "     * @dev Multiplies two unsigned integers, reverts on overflow.\n",
    "     */\n",
    "    function mul(uint256 a, uint256 b) internal pure returns (uint256) {\n",
    "        // Gas optimization: this is cheaper than requiring 'a' not being zero, but the\n",
    "        // benefit is lost if 'b' is also tested.\n",
    "        // See: https://github.com/OpenZeppelin/openzeppelin-solidity/pull/522\n",
    "        if (a == 0) {\n",
    "            return 0;\n",
    "        }\n",
    "\n",
    "        uint256 c = a * b;\n",
    "        require(c / a == b);\n",
    "\n",
    "        return c;\n",
    "    }\n",
    "\n",
    "    /**\n",
    "     * @dev Integer division of two unsigned integers truncating the quotient, reverts on division by zero.\n",
    "     */\n",
    "    function div(uint256 a, uint256 b) internal pure returns (uint256) {\n",
    "        // Solidity only automatically asserts when dividing by 0\n",
    "        require(b > 0);\n",
    "        uint256 c = a / b;\n",
    "        // assert(a == b * c + a % b); // There is no case in which this doesn't hold\n",
    "\n",
    "        return c;\n",
    "    }\n",
    "\n",
    "    /**\n",
    "     * @dev Subtracts two unsigned integers, reverts on overflow (i.e. if subtrahend is greater than minuend).\n",
    "     */\n",
    "    function sub(uint256 a, uint256 b) internal pure returns (uint256) {\n",
    "        require(b <= a);\n",
    "        uint256 c = a - b;\n",
    "\n",
    "        return c;\n",
    "    }\n",
    "\n",
    "    /**\n",
    "     * @dev Adds two unsigned integers, reverts on overflow.\n",
    "     */\n",
    "    function add(uint256 a, uint256 b) internal pure returns (uint256) {\n",
    "        uint256 c = a + b;\n",
    "        require(c >= a);\n",
    "\n",
    "        return c;\n",
    "    }\n",
    "\n",
    "    /**\n",
    "     * @dev Divides two unsigned integers and returns the remainder (unsigned integer modulo),\n",
    "     * reverts when dividing by zero.\n",
    "     */\n",
    "    function mod(uint256 a, uint256 b) internal pure returns (uint256) {\n",
    "        require(b != 0);\n",
    "        return a % b;\n",
    "    }\n",
    "}\n",
    "\n",
    "// File: openzeppelin-solidity/contracts/token/ERC20/IERC20.sol\n",
    "\n",
    "pragma solidity ^0.5.2;\n",
    "\n",
    "/**\n",
    " * @title ERC20 interface\n",
    " * @dev see https://eips.ethereum.org/EIPS/eip-20\n",
    " */\n",
    "interface IERC20 {\n",
    "    function transfer(address to, uint256 value) external returns (bool);\n",
    "\n",
    "    function approve(address spender, uint256 value) external returns (bool);\n",
    "\n",
    "    function transferFrom(address from, address to, uint256 value) external returns (bool);\n",
    "\n",
    "    function totalSupply() external view returns (uint256);\n",
    "\n",
    "    function balanceOf(address who) external view returns (uint256);\n",
    "\n",
    "    function allowance(address owner, address spender) external view returns (uint256);\n",
    "\n",
    "    event Transfer(address indexed from, address indexed to, uint256 value);\n",
    "\n",
    "    event Approval(address indexed owner, address indexed spender, uint256 value);\n",
    "}\n",
    "\n",
    "// File: contracts/Claimable.sol\n",
    "\n",
    "pragma solidity 0.5.9;\n",
    "\n",
    "\n",
    "\n",
    "/**\n",
    " * @title Claimable\n",
    " * @dev Claimable contract, where the ownership needs to be claimed.\n",
    " * This allows the new owner to accept the transfer.\n",
    " */\n",
    "contract Claimable {\n",
    "    address public owner;\n",
    "    address public pendingOwner;\n",
    "\n",
    "    event OwnershipTransferred(\n",
    "        address indexed previousOwner,\n",
    "        address indexed newOwner\n",
    "    );\n",
    "\n",
    "    /**\n",
    "    * @dev The Claimable constructor sets the original `owner` of the contract to the sender\n",
    "    * account.\n",
    "    */\n",
    "    constructor() public {\n",
    "        owner = msg.sender;\n",
    "    }\n",
    "\n",
    "    /**\n",
    "    * @dev Throws if called by any account other than the owner.\n",
    "    */\n",
    "    modifier onlyOwner() {\n",
    "        require(msg.sender == owner);\n",
    "        _;\n",
    "    }\n",
    "\n",
    "    /**\n",
    "    * @dev Modifier throws if called by any account other than the pendingOwner.\n",
    "    */\n",
    "    modifier onlyPendingOwner() {\n",
    "        require(msg.sender == pendingOwner);\n",
    "        _;\n",
    "    }\n",
    "\n",
    "    /**\n",
    "    * @dev Allows the current owner to set the pendingOwner address.\n",
    "    * @param newOwner The address to transfer ownership to.\n",
    "    */\n",
    "    function transferOwnership(address newOwner) public onlyOwner {\n",
    "        pendingOwner = newOwner;\n",
    "    }\n",
    "\n",
    "    /**\n",
    "    * @dev Allows the pendingOwner address to finalize the transfer.\n",
    "    */\n",
    "    function claimOwnership() public onlyPendingOwner {\n",
    "        emit OwnershipTransferred(owner, pendingOwner);\n",
    "        owner = pendingOwner;\n",
    "        pendingOwner = address(0);\n",
    "    }\n",
    "}\n",
    "\n",
    "// File: contracts/Keeper.sol\n",
    "\n",
    "pragma solidity 0.5.9;\n",
    "\n",
    "\n",
    "/**\n",
    "* @title Keeper\n",
    "*\n",
    "* @dev Implements the early investors' SWG tokens locking mechanism.\n",
    "* To avoid momentary dumping SWG token, the Keeper holds the early\n",
    "* investor's funds frozen until unFreezeStartDate. Between unFreezeStartDate\n",
    "* and totalUnFreezeDate, the contract allows holder to withdraw amount\n",
    "* proportional to time passed. After totalUnFreezeDate the funds get totally\n",
    "* unlocked and the early investor can spend the entire amount at any moment.\n",
    "*/\n",
    "contract Keeper is Claimable {\n",
    "    using SafeMath for uint256;\n",
    "    IERC20 public token;\n",
    "    // the date when withdrawals become possible\n",
    "    uint256 public unFreezeStartDate;\n",
    "    // the date when all funds get unfrozen\n",
    "    uint256 public totalUnFreezeDate;\n",
    "    // the records about individual balances\n",
    "    mapping(address => uint256) public balances;\n",
    "    // the records about already withdrawn amounts\n",
    "    mapping(address => uint256) public withdrawnBalances;\n",
    "    // the sum of registered balance\n",
    "    uint256 public totalBalance;\n",
    "\n",
    "    constructor(\n",
    "        IERC20 _token,\n",
    "        uint256 _unFreezeStartDate,\n",
    "        uint256 _totalUnFreezeDate\n",
    "    ) public {\n",
    "        // solhint-disable-next-line not-rely-on-time\n",
    "        require(_unFreezeStartDate >= block.timestamp);\n",
    "        require(_totalUnFreezeDate > _unFreezeStartDate);\n",
    "        token = _token;\n",
    "        unFreezeStartDate = _unFreezeStartDate;\n",
    "        totalUnFreezeDate = _totalUnFreezeDate;\n",
    "    }\n",
    "\n",
    "    /**\n",
    "     * @dev Adds the individual holder's balance\n",
    "     *\n",
    "     * Called by the backend of payout engine per holder (after token got transferred on the Keeper)\n",
    "     */\n",
    "    function addBalance(address _to, uint256 _value) public onlyOwner {\n",
    "        require(_to != address(0));\n",
    "        require(_value > 0);\n",
    "        require(totalBalance.add(_value)\n",
    "                <= token.balanceOf(address(this)), \"not enough tokens\");\n",
    "        balances[_to] = balances[_to].add(_value);\n",
    "        totalBalance = totalBalance.add(_value);\n",
    "    }\n",
    "\n",
    "    /**\n",
    "     * @dev Withdraws the allowed amount of tokens\n",
    "     *\n",
    "     * Called by the investor through Keeper Dapp or Etherscan write interface\n",
    "     */\n",
    "    function withdraw(address _to, uint256 _value) public {\n",
    "        require(_to != address(0));\n",
    "        require(_value > 0);\n",
    "        require(unFreezeStartDate < now, \"not unfrozen yet\");\n",
    "        require(\n",
    "            (getUnfrozenAmount(msg.sender).sub(withdrawnBalances[msg.sender]))\n",
    "            >= _value\n",
    "        );\n",
    "        withdrawnBalances[msg.sender] = withdrawnBalances[msg.sender].add(_value);\n",
    "        totalBalance = totalBalance.sub(_value);\n",
    "        token.transfer(_to, _value);\n",
    "    }\n",
    "\n",
    "    /**\n",
    "     * @dev Shows the amount of tokens allowed to withdraw\n",
    "     *\n",
    "     * Called by the investor through Keeper Dapp or Etherscan write interface\n",
    "     */\n",
    "    function getUnfrozenAmount(address _holder) public view returns (uint256) {\n",
    "        if (now > unFreezeStartDate) {\n",
    "            if (now > totalUnFreezeDate) {\n",
    "                // tokens are totally unfrozen\n",
    "                return balances[_holder];\n",
    "            }\n",
    "            // tokens are partially unfrozen\n",
    "            uint256 partialFreezePeriodLen =\n",
    "                totalUnFreezeDate.sub(unFreezeStartDate);\n",
    "            uint256 secondsSincePeriodStart = now.sub(unFreezeStartDate);\n",
    "            uint256 amount = balances[_holder]\n",
    "                .mul(secondsSincePeriodStart)\n",
    "                .div(partialFreezePeriodLen);\n",
    "            return amount;\n",
    "        }\n",
    "        // tokens are totally frozen\n",
    "        return 0;\n",
    "    }\n",
    "}\n",
    "\n",
    "\"\"\""
   ]
  },
  {
   "cell_type": "code",
   "execution_count": 5,
   "metadata": {},
   "outputs": [],
   "source": [
    "token_source_code = b\"\"\"\n",
    "\n",
    "\n",
    "// File: contracts/Claimable.sol\n",
    "\n",
    "pragma solidity 0.5.9;\n",
    "\n",
    "\n",
    "\n",
    "/**\n",
    " * @title Claimable\n",
    " * @dev Claimable contract, where the ownership needs to be claimed.\n",
    " * This allows the new owner to accept the transfer.\n",
    " */\n",
    "contract Claimable {\n",
    "    address public owner;\n",
    "    address public pendingOwner;\n",
    "\n",
    "    event OwnershipTransferred(\n",
    "        address indexed previousOwner,\n",
    "        address indexed newOwner\n",
    "    );\n",
    "\n",
    "    /**\n",
    "    * @dev The Claimable constructor sets the original `owner` of the contract to the sender\n",
    "    * account.\n",
    "    */\n",
    "    constructor() public {\n",
    "        owner = msg.sender;\n",
    "    }\n",
    "\n",
    "    /**\n",
    "    * @dev Throws if called by any account other than the owner.\n",
    "    */\n",
    "    modifier onlyOwner() {\n",
    "        require(msg.sender == owner);\n",
    "        _;\n",
    "    }\n",
    "\n",
    "    /**\n",
    "    * @dev Modifier throws if called by any account other than the pendingOwner.\n",
    "    */\n",
    "    modifier onlyPendingOwner() {\n",
    "        require(msg.sender == pendingOwner);\n",
    "        _;\n",
    "    }\n",
    "\n",
    "    /**\n",
    "    * @dev Allows the current owner to set the pendingOwner address.\n",
    "    * @param newOwner The address to transfer ownership to.\n",
    "    */\n",
    "    function transferOwnership(address newOwner) public onlyOwner {\n",
    "        pendingOwner = newOwner;\n",
    "    }\n",
    "\n",
    "    /**\n",
    "    * @dev Allows the pendingOwner address to finalize the transfer.\n",
    "    */\n",
    "    function claimOwnership() public onlyPendingOwner {\n",
    "        emit OwnershipTransferred(owner, pendingOwner);\n",
    "        owner = pendingOwner;\n",
    "        pendingOwner = address(0);\n",
    "    }\n",
    "}\n",
    "\n",
    "// File: openzeppelin-solidity/contracts/token/ERC20/IERC20.sol\n",
    "\n",
    "pragma solidity ^0.5.2;\n",
    "\n",
    "/**\n",
    " * @title ERC20 interface\n",
    " * @dev see https://eips.ethereum.org/EIPS/eip-20\n",
    " */\n",
    "interface IERC20 {\n",
    "    function transfer(address to, uint256 value) external returns (bool);\n",
    "\n",
    "    function approve(address spender, uint256 value) external returns (bool);\n",
    "\n",
    "    function transferFrom(address from, address to, uint256 value) external returns (bool);\n",
    "\n",
    "    function totalSupply() external view returns (uint256);\n",
    "\n",
    "    function balanceOf(address who) external view returns (uint256);\n",
    "\n",
    "    function allowance(address owner, address spender) external view returns (uint256);\n",
    "\n",
    "    event Transfer(address indexed from, address indexed to, uint256 value);\n",
    "\n",
    "    event Approval(address indexed owner, address indexed spender, uint256 value);\n",
    "}\n",
    "\n",
    "// File: openzeppelin-solidity/contracts/math/SafeMath.sol\n",
    "\n",
    "pragma solidity ^0.5.2;\n",
    "\n",
    "/**\n",
    " * @title SafeMath\n",
    " * @dev Unsigned math operations with safety checks that revert on error\n",
    " */\n",
    "library SafeMath {\n",
    "    /**\n",
    "     * @dev Multiplies two unsigned integers, reverts on overflow.\n",
    "     */\n",
    "    function mul(uint256 a, uint256 b) internal pure returns (uint256) {\n",
    "        // Gas optimization: this is cheaper than requiring 'a' not being zero, but the\n",
    "        // benefit is lost if 'b' is also tested.\n",
    "        // See: https://github.com/OpenZeppelin/openzeppelin-solidity/pull/522\n",
    "        if (a == 0) {\n",
    "            return 0;\n",
    "        }\n",
    "\n",
    "        uint256 c = a * b;\n",
    "        require(c / a == b);\n",
    "\n",
    "        return c;\n",
    "    }\n",
    "\n",
    "    /**\n",
    "     * @dev Integer division of two unsigned integers truncating the quotient, reverts on division by zero.\n",
    "     */\n",
    "    function div(uint256 a, uint256 b) internal pure returns (uint256) {\n",
    "        // Solidity only automatically asserts when dividing by 0\n",
    "        require(b > 0);\n",
    "        uint256 c = a / b;\n",
    "        // assert(a == b * c + a % b); // There is no case in which this doesn't hold\n",
    "\n",
    "        return c;\n",
    "    }\n",
    "\n",
    "    /**\n",
    "     * @dev Subtracts two unsigned integers, reverts on overflow (i.e. if subtrahend is greater than minuend).\n",
    "     */\n",
    "    function sub(uint256 a, uint256 b) internal pure returns (uint256) {\n",
    "        require(b <= a);\n",
    "        uint256 c = a - b;\n",
    "\n",
    "        return c;\n",
    "    }\n",
    "\n",
    "    /**\n",
    "     * @dev Adds two unsigned integers, reverts on overflow.\n",
    "     */\n",
    "    function add(uint256 a, uint256 b) internal pure returns (uint256) {\n",
    "        uint256 c = a + b;\n",
    "        require(c >= a);\n",
    "\n",
    "        return c;\n",
    "    }\n",
    "\n",
    "    /**\n",
    "     * @dev Divides two unsigned integers and returns the remainder (unsigned integer modulo),\n",
    "     * reverts when dividing by zero.\n",
    "     */\n",
    "    function mod(uint256 a, uint256 b) internal pure returns (uint256) {\n",
    "        require(b != 0);\n",
    "        return a % b;\n",
    "    }\n",
    "}\n",
    "\n",
    "// File: openzeppelin-solidity/contracts/token/ERC20/ERC20.sol\n",
    "\n",
    "pragma solidity ^0.5.2;\n",
    "\n",
    "\n",
    "\n",
    "/**\n",
    " * @title Standard ERC20 token\n",
    " *\n",
    " * @dev Implementation of the basic standard token.\n",
    " * https://eips.ethereum.org/EIPS/eip-20\n",
    " * Originally based on code by FirstBlood:\n",
    " * https://github.com/Firstbloodio/token/blob/master/smart_contract/FirstBloodToken.sol\n",
    " *\n",
    " * This implementation emits additional Approval events, allowing applications to reconstruct the allowance status for\n",
    " * all accounts just by listening to said events. Note that this isn't required by the specification, and other\n",
    " * compliant implementations may not do it.\n",
    " */\n",
    "contract ERC20 is IERC20 {\n",
    "    using SafeMath for uint256;\n",
    "\n",
    "    mapping (address => uint256) private _balances;\n",
    "\n",
    "    mapping (address => mapping (address => uint256)) private _allowed;\n",
    "\n",
    "    uint256 private _totalSupply;\n",
    "\n",
    "    /**\n",
    "     * @dev Total number of tokens in existence\n",
    "     */\n",
    "    function totalSupply() public view returns (uint256) {\n",
    "        return _totalSupply;\n",
    "    }\n",
    "\n",
    "    /**\n",
    "     * @dev Gets the balance of the specified address.\n",
    "     * @param owner The address to query the balance of.\n",
    "     * @return A uint256 representing the amount owned by the passed address.\n",
    "     */\n",
    "    function balanceOf(address owner) public view returns (uint256) {\n",
    "        return _balances[owner];\n",
    "    }\n",
    "\n",
    "    /**\n",
    "     * @dev Function to check the amount of tokens that an owner allowed to a spender.\n",
    "     * @param owner address The address which owns the funds.\n",
    "     * @param spender address The address which will spend the funds.\n",
    "     * @return A uint256 specifying the amount of tokens still available for the spender.\n",
    "     */\n",
    "    function allowance(address owner, address spender) public view returns (uint256) {\n",
    "        return _allowed[owner][spender];\n",
    "    }\n",
    "\n",
    "    /**\n",
    "     * @dev Transfer token to a specified address\n",
    "     * @param to The address to transfer to.\n",
    "     * @param value The amount to be transferred.\n",
    "     */\n",
    "    function transfer(address to, uint256 value) public returns (bool) {\n",
    "        _transfer(msg.sender, to, value);\n",
    "        return true;\n",
    "    }\n",
    "\n",
    "    /**\n",
    "     * @dev Approve the passed address to spend the specified amount of tokens on behalf of msg.sender.\n",
    "     * Beware that changing an allowance with this method brings the risk that someone may use both the old\n",
    "     * and the new allowance by unfortunate transaction ordering. One possible solution to mitigate this\n",
    "     * race condition is to first reduce the spender's allowance to 0 and set the desired value afterwards:\n",
    "     * https://github.com/ethereum/EIPs/issues/20#issuecomment-263524729\n",
    "     * @param spender The address which will spend the funds.\n",
    "     * @param value The amount of tokens to be spent.\n",
    "     */\n",
    "    function approve(address spender, uint256 value) public returns (bool) {\n",
    "        _approve(msg.sender, spender, value);\n",
    "        return true;\n",
    "    }\n",
    "\n",
    "    /**\n",
    "     * @dev Transfer tokens from one address to another.\n",
    "     * Note that while this function emits an Approval event, this is not required as per the specification,\n",
    "     * and other compliant implementations may not emit the event.\n",
    "     * @param from address The address which you want to send tokens from\n",
    "     * @param to address The address which you want to transfer to\n",
    "     * @param value uint256 the amount of tokens to be transferred\n",
    "     */\n",
    "    function transferFrom(address from, address to, uint256 value) public returns (bool) {\n",
    "        _transfer(from, to, value);\n",
    "        _approve(from, msg.sender, _allowed[from][msg.sender].sub(value));\n",
    "        return true;\n",
    "    }\n",
    "\n",
    "    /**\n",
    "     * @dev Increase the amount of tokens that an owner allowed to a spender.\n",
    "     * approve should be called when _allowed[msg.sender][spender] == 0. To increment\n",
    "     * allowed value is better to use this function to avoid 2 calls (and wait until\n",
    "     * the first transaction is mined)\n",
    "     * From MonolithDAO Token.sol\n",
    "     * Emits an Approval event.\n",
    "     * @param spender The address which will spend the funds.\n",
    "     * @param addedValue The amount of tokens to increase the allowance by.\n",
    "     */\n",
    "    function increaseAllowance(address spender, uint256 addedValue) public returns (bool) {\n",
    "        _approve(msg.sender, spender, _allowed[msg.sender][spender].add(addedValue));\n",
    "        return true;\n",
    "    }\n",
    "\n",
    "    /**\n",
    "     * @dev Decrease the amount of tokens that an owner allowed to a spender.\n",
    "     * approve should be called when _allowed[msg.sender][spender] == 0. To decrement\n",
    "     * allowed value is better to use this function to avoid 2 calls (and wait until\n",
    "     * the first transaction is mined)\n",
    "     * From MonolithDAO Token.sol\n",
    "     * Emits an Approval event.\n",
    "     * @param spender The address which will spend the funds.\n",
    "     * @param subtractedValue The amount of tokens to decrease the allowance by.\n",
    "     */\n",
    "    function decreaseAllowance(address spender, uint256 subtractedValue) public returns (bool) {\n",
    "        _approve(msg.sender, spender, _allowed[msg.sender][spender].sub(subtractedValue));\n",
    "        return true;\n",
    "    }\n",
    "\n",
    "    /**\n",
    "     * @dev Transfer token for a specified addresses\n",
    "     * @param from The address to transfer from.\n",
    "     * @param to The address to transfer to.\n",
    "     * @param value The amount to be transferred.\n",
    "     */\n",
    "    function _transfer(address from, address to, uint256 value) internal {\n",
    "        require(to != address(0));\n",
    "\n",
    "        _balances[from] = _balances[from].sub(value);\n",
    "        _balances[to] = _balances[to].add(value);\n",
    "        emit Transfer(from, to, value);\n",
    "    }\n",
    "\n",
    "    /**\n",
    "     * @dev Internal function that mints an amount of the token and assigns it to\n",
    "     * an account. This encapsulates the modification of balances such that the\n",
    "     * proper events are emitted.\n",
    "     * @param account The account that will receive the created tokens.\n",
    "     * @param value The amount that will be created.\n",
    "     */\n",
    "    function _mint(address account, uint256 value) internal {\n",
    "        require(account != address(0));\n",
    "\n",
    "        _totalSupply = _totalSupply.add(value);\n",
    "        _balances[account] = _balances[account].add(value);\n",
    "        emit Transfer(address(0), account, value);\n",
    "    }\n",
    "\n",
    "    /**\n",
    "     * @dev Internal function that burns an amount of the token of a given\n",
    "     * account.\n",
    "     * @param account The account whose tokens will be burnt.\n",
    "     * @param value The amount that will be burnt.\n",
    "     */\n",
    "    function _burn(address account, uint256 value) internal {\n",
    "        require(account != address(0));\n",
    "\n",
    "        _totalSupply = _totalSupply.sub(value);\n",
    "        _balances[account] = _balances[account].sub(value);\n",
    "        emit Transfer(account, address(0), value);\n",
    "    }\n",
    "\n",
    "    /**\n",
    "     * @dev Approve an address to spend another addresses' tokens.\n",
    "     * @param owner The address that owns the tokens.\n",
    "     * @param spender The address that will spend the tokens.\n",
    "     * @param value The number of tokens that can be spent.\n",
    "     */\n",
    "    function _approve(address owner, address spender, uint256 value) internal {\n",
    "        require(spender != address(0));\n",
    "        require(owner != address(0));\n",
    "\n",
    "        _allowed[owner][spender] = value;\n",
    "        emit Approval(owner, spender, value);\n",
    "    }\n",
    "\n",
    "    /**\n",
    "     * @dev Internal function that burns an amount of the token of a given\n",
    "     * account, deducting from the sender's allowance for said account. Uses the\n",
    "     * internal burn function.\n",
    "     * Emits an Approval event (reflecting the reduced allowance).\n",
    "     * @param account The account whose tokens will be burnt.\n",
    "     * @param value The amount that will be burnt.\n",
    "     */\n",
    "    function _burnFrom(address account, uint256 value) internal {\n",
    "        _burn(account, value);\n",
    "        _approve(account, msg.sender, _allowed[account][msg.sender].sub(value));\n",
    "    }\n",
    "}\n",
    "\n",
    "// File: openzeppelin-solidity/contracts/token/ERC20/ERC20Burnable.sol\n",
    "\n",
    "pragma solidity ^0.5.2;\n",
    "\n",
    "\n",
    "/**\n",
    " * @title Burnable Token\n",
    " * @dev Token that can be irreversibly burned (destroyed).\n",
    " */\n",
    "contract ERC20Burnable is ERC20 {\n",
    "    /**\n",
    "     * @dev Burns a specific amount of tokens.\n",
    "     * @param value The amount of token to be burned.\n",
    "     */\n",
    "    function burn(uint256 value) public {\n",
    "        _burn(msg.sender, value);\n",
    "    }\n",
    "\n",
    "    /**\n",
    "     * @dev Burns a specific amount of tokens from the target address and decrements allowance\n",
    "     * @param from address The account whose tokens will be burned.\n",
    "     * @param value uint256 The amount of token to be burned.\n",
    "     */\n",
    "    function burnFrom(address from, uint256 value) public {\n",
    "        _burnFrom(from, value);\n",
    "    }\n",
    "}\n",
    "\n",
    "// File: contracts/SwgToken.sol\n",
    "\n",
    "pragma solidity 0.5.9;\n",
    "\n",
    "\n",
    "\n",
    "\n",
    "\n",
    "contract SwgToken is ERC20, ERC20Burnable, Claimable {\n",
    "    string public name = \"SkyWay Global Token\";\n",
    "    string public symbol = \"SWG\";\n",
    "    uint8 public decimals = 8;\n",
    "\n",
    "    /**\n",
    "     * @dev Function to mint tokens\n",
    "     * @param to The address that will receive the minted tokens.\n",
    "     * @param value The amount of tokens to mint.\n",
    "     * @return A boolean that indicates if the operation was successful.\n",
    "     */\n",
    "    function mint(address to, uint256 value) public onlyOwner returns (bool) {\n",
    "        require(value > 0);\n",
    "        _mint(to, value);\n",
    "        return true;\n",
    "    }\n",
    "}\n",
    "\n",
    "\"\"\""
   ]
  },
  {
   "cell_type": "markdown",
   "metadata": {},
   "source": [
    "## Compile\n",
    "To deploy the contract and programmatically interact with it, you should convert high-level Solidity code to:\n",
    "* EVM bytecode - binary code, will be deployed to mainet;\n",
    "* ABI artifact - JSON specification of contract interfaces - functions, args, events;\n",
    "Solc compiler has to be installed on your machine."
   ]
  },
  {
   "cell_type": "markdown",
   "metadata": {},
   "source": [
    "Install Solidity if not installed.\n",
    "For mac:\n",
    "\n",
    "`brew tap ethereum/ethereum\n",
    "brew install solidity\n",
    "`"
   ]
  },
  {
   "cell_type": "markdown",
   "metadata": {},
   "source": [
    "Check solidity version (should match pragma statement in your contract)"
   ]
  },
  {
   "cell_type": "code",
   "execution_count": 6,
   "metadata": {},
   "outputs": [
    {
     "data": {
      "text/plain": [
       "'0.5.9+commit.c68bc34e.Darwin.appleclang'"
      ]
     },
     "execution_count": 6,
     "metadata": {},
     "output_type": "execute_result"
    }
   ],
   "source": [
    "import subprocess, re, json\n",
    "solc = subprocess.Popen(['solc', '--version'], stdout=subprocess.PIPE, stdin=subprocess.PIPE)\n",
    "solc_output = solc.communicate()\n",
    "\n",
    "m = re.search(r\"Version: ([\\w\\.\\+]+)\", str(solc_output[0]))\n",
    "m.group(1)"
   ]
  },
  {
   "cell_type": "markdown",
   "metadata": {},
   "source": [
    "### Keeper\n",
    "Actually compile and generate ABI"
   ]
  },
  {
   "cell_type": "code",
   "execution_count": 7,
   "metadata": {},
   "outputs": [],
   "source": [
    "solc = subprocess.Popen(['solc', '--combined-json', 'bin,abi', '-'], stdout=subprocess.PIPE, stdin=subprocess.PIPE)\n",
    "solc_output = solc.communicate(keeper_source_code)"
   ]
  },
  {
   "cell_type": "markdown",
   "metadata": {},
   "source": [
    "See the contract bytecode"
   ]
  },
  {
   "cell_type": "code",
   "execution_count": 8,
   "metadata": {},
   "outputs": [
    {
     "data": {
      "text/plain": [
       "'608060405234801561001057600080fd5b50604051610f53380380610f538339818101604052606081101561003357600080fd5b81019080805190602001909291908051906020019092919080519060200190929190505050336000806101000a81548173ffffffffffffffffffffffffffffffffffffffff021916908373ffffffffffffffffffffffffffffffffffffffff160217905550428210156100a557600080fd5b8181116100b157600080fd5b82600260006101000a81548173ffffffffffffffffffffffffffffffffffffffff021916908373ffffffffffffffffffffffffffffffffffffffff1602179055508160038190555080600481905550505050610e41806101126000396000f3fe608060405234801561001057600080fd5b50600436106100cf5760003560e01c8063ad7a672f1161008c578063f2fde38b11610066578063f2fde38b14610304578063f3fef3a314610348578063f8dd54cd14610396578063fc0c546a146103b4576100cf565b8063ad7a672f14610244578063e30c397814610262578063ea957156146102ac576100cf565b806321e5383a146100d457806327e235e3146101225780634e71e0c81461017a5780635e502d2e146101845780638da5cb5b146101a257806393611eab146101ec575b600080fd5b610120600480360360408110156100ea57600080fd5b81019080803573ffffffffffffffffffffffffffffffffffffffff169060200190929190803590602001909291905050506103fe565b005b6101646004803603602081101561013857600080fd5b81019080803573ffffffffffffffffffffffffffffffffffffffff1690602001909291905050506106b5565b6040518082815260200191505060405180910390f35b6101826106cd565b005b61018c61086a565b6040518082815260200191505060405180910390f35b6101aa610870565b604051808273ffffffffffffffffffffffffffffffffffffffff1673ffffffffffffffffffffffffffffffffffffffff16815260200191505060405180910390f35b61022e6004803603602081101561020257600080fd5b81019080803573ffffffffffffffffffffffffffffffffffffffff169060200190929190505050610895565b6040518082815260200191505060405180910390f35b61024c6109a3565b6040518082815260200191505060405180910390f35b61026a6109a9565b604051808273ffffffffffffffffffffffffffffffffffffffff1673ffffffffffffffffffffffffffffffffffffffff16815260200191505060405180910390f35b6102ee600480360360208110156102c257600080fd5b81019080803573ffffffffffffffffffffffffffffffffffffffff1690602001909291905050506109cf565b6040518082815260200191505060405180910390f35b6103466004803603602081101561031a57600080fd5b81019080803573ffffffffffffffffffffffffffffffffffffffff1690602001909291905050506109e7565b005b6103946004803603604081101561035e57600080fd5b81019080803573ffffffffffffffffffffffffffffffffffffffff16906020019092919080359060200190929190505050610a84565b005b61039e610d41565b6040518082815260200191505060405180910390f35b6103bc610d47565b604051808273ffffffffffffffffffffffffffffffffffffffff1673ffffffffffffffffffffffffffffffffffffffff16815260200191505060405180910390f35b6000809054906101000a900473ffffffffffffffffffffffffffffffffffffffff1673ffffffffffffffffffffffffffffffffffffffff163373ffffffffffffffffffffffffffffffffffffffff161461045757600080fd5b600073ffffffffffffffffffffffffffffffffffffffff168273ffffffffffffffffffffffffffffffffffffffff16141561049157600080fd5b6000811161049e57600080fd5b600260009054906101000a900473ffffffffffffffffffffffffffffffffffffffff1673ffffffffffffffffffffffffffffffffffffffff166370a08231306040518263ffffffff1660e01b8152600401808273ffffffffffffffffffffffffffffffffffffffff1673ffffffffffffffffffffffffffffffffffffffff16815260200191505060206040518083038186803b15801561053d57600080fd5b505afa158015610551573d6000803e3d6000fd5b505050506040513d602081101561056757600080fd5b810190808051906020019092919050505061058d82600754610d6d90919063ffffffff16565b1115610601576040517f08c379a00000000000000000000000000000000000000000000000000000000081526004018080602001828103825260118152602001807f6e6f7420656e6f75676820746f6b656e7300000000000000000000000000000081525060200191505060405180910390fd5b61065381600560008573ffffffffffffffffffffffffffffffffffffffff1673ffffffffffffffffffffffffffffffffffffffff16815260200190815260200160002054610d6d90919063ffffffff16565b600560008473ffffffffffffffffffffffffffffffffffffffff1673ffffffffffffffffffffffffffffffffffffffff168152602001908152602001600020819055506106ab81600754610d6d90919063ffffffff16565b6007819055505050565b60056020528060005260406000206000915090505481565b600160009054906101000a900473ffffffffffffffffffffffffffffffffffffffff1673ffffffffffffffffffffffffffffffffffffffff163373ffffffffffffffffffffffffffffffffffffffff161461072757600080fd5b600160009054906101000a900473ffffffffffffffffffffffffffffffffffffffff1673ffffffffffffffffffffffffffffffffffffffff166000809054906101000a900473ffffffffffffffffffffffffffffffffffffffff1673ffffffffffffffffffffffffffffffffffffffff167f8be0079c531659141344cd1fd0a4f28419497f9722a3daafe3b4186f6b6457e060405160405180910390a3600160009054906101000a900473ffffffffffffffffffffffffffffffffffffffff166000806101000a81548173ffffffffffffffffffffffffffffffffffffffff021916908373ffffffffffffffffffffffffffffffffffffffff1602179055506000600160006101000a81548173ffffffffffffffffffffffffffffffffffffffff021916908373ffffffffffffffffffffffffffffffffffffffff160217905550565b60035481565b6000809054906101000a900473ffffffffffffffffffffffffffffffffffffffff1681565b6000600354421115610999576004544211156108f257600560008373ffffffffffffffffffffffffffffffffffffffff1673ffffffffffffffffffffffffffffffffffffffff16815260200190815260200160002054905061099e565b600061090b600354600454610d8c90919063ffffffff16565b9050600061092460035442610d8c90919063ffffffff16565b9050600061098c8361097e84600560008a73ffffffffffffffffffffffffffffffffffffffff1673ffffffffffffffffffffffffffffffffffffffff16815260200190815260200160002054610dac90919063ffffffff16565b610de690919063ffffffff16565b905080935050505061099e565b600090505b919050565b60075481565b600160009054906101000a900473ffffffffffffffffffffffffffffffffffffffff1681565b60066020528060005260406000206000915090505481565b6000809054906101000a900473ffffffffffffffffffffffffffffffffffffffff1673ffffffffffffffffffffffffffffffffffffffff163373ffffffffffffffffffffffffffffffffffffffff1614610a4057600080fd5b80600160006101000a81548173ffffffffffffffffffffffffffffffffffffffff021916908373ffffffffffffffffffffffffffffffffffffffff16021790555050565b600073ffffffffffffffffffffffffffffffffffffffff168273ffffffffffffffffffffffffffffffffffffffff161415610abe57600080fd5b60008111610acb57600080fd5b4260035410610b42576040517f08c379a00000000000000000000000000000000000000000000000000000000081526004018080602001828103825260108152602001807f6e6f7420756e66726f7a656e207965740000000000000000000000000000000081525060200191505060405180910390fd5b80610b9d600660003373ffffffffffffffffffffffffffffffffffffffff1673ffffffffffffffffffffffffffffffffffffffff16815260200190815260200160002054610b8f33610895565b610d8c90919063ffffffff16565b1015610ba857600080fd5b610bfa81600660003373ffffffffffffffffffffffffffffffffffffffff1673ffffffffffffffffffffffffffffffffffffffff16815260200190815260200160002054610d6d90919063ffffffff16565b600660003373ffffffffffffffffffffffffffffffffffffffff1673ffffffffffffffffffffffffffffffffffffffff16815260200190815260200160002081905550610c5281600754610d8c90919063ffffffff16565b600781905550600260009054906101000a900473ffffffffffffffffffffffffffffffffffffffff1673ffffffffffffffffffffffffffffffffffffffff1663a9059cbb83836040518363ffffffff1660e01b8152600401808373ffffffffffffffffffffffffffffffffffffffff1673ffffffffffffffffffffffffffffffffffffffff16815260200182815260200192505050602060405180830381600087803b158015610d0157600080fd5b505af1158015610d15573d6000803e3d6000fd5b505050506040513d6020811015610d2b57600080fd5b8101908080519060200190929190505050505050565b60045481565b600260009054906101000a900473ffffffffffffffffffffffffffffffffffffffff1681565b600080828401905083811015610d8257600080fd5b8091505092915050565b600082821115610d9b57600080fd5b600082840390508091505092915050565b600080831415610dbf5760009050610de0565b6000828402905082848281610dd057fe5b0414610ddb57600080fd5b809150505b92915050565b6000808211610df457600080fd5b6000828481610dff57fe5b049050809150509291505056fea265627a7a72305820342395b4b82aec426bf632cfc566d3e64e0f04d5693bb7cfac1f3958ca3adc9564736f6c63430005090032'"
      ]
     },
     "execution_count": 8,
     "metadata": {},
     "output_type": "execute_result"
    }
   ],
   "source": [
    "keeper_bytecode = json.loads(solc_output[0])['contracts']['<stdin>:Keeper']['bin']\n",
    "keeper_bytecode"
   ]
  },
  {
   "cell_type": "markdown",
   "metadata": {},
   "source": [
    "See the keeper ABI interfaces"
   ]
  },
  {
   "cell_type": "code",
   "execution_count": 9,
   "metadata": {
    "scrolled": true
   },
   "outputs": [
    {
     "data": {
      "text/plain": [
       "'[{\"constant\":false,\"inputs\":[{\"name\":\"_to\",\"type\":\"address\"},{\"name\":\"_value\",\"type\":\"uint256\"}],\"name\":\"addBalance\",\"outputs\":[],\"payable\":false,\"stateMutability\":\"nonpayable\",\"type\":\"function\"},{\"constant\":true,\"inputs\":[{\"name\":\"\",\"type\":\"address\"}],\"name\":\"balances\",\"outputs\":[{\"name\":\"\",\"type\":\"uint256\"}],\"payable\":false,\"stateMutability\":\"view\",\"type\":\"function\"},{\"constant\":false,\"inputs\":[],\"name\":\"claimOwnership\",\"outputs\":[],\"payable\":false,\"stateMutability\":\"nonpayable\",\"type\":\"function\"},{\"constant\":true,\"inputs\":[],\"name\":\"unFreezeStartDate\",\"outputs\":[{\"name\":\"\",\"type\":\"uint256\"}],\"payable\":false,\"stateMutability\":\"view\",\"type\":\"function\"},{\"constant\":true,\"inputs\":[],\"name\":\"owner\",\"outputs\":[{\"name\":\"\",\"type\":\"address\"}],\"payable\":false,\"stateMutability\":\"view\",\"type\":\"function\"},{\"constant\":true,\"inputs\":[{\"name\":\"_holder\",\"type\":\"address\"}],\"name\":\"getUnfrozenAmount\",\"outputs\":[{\"name\":\"\",\"type\":\"uint256\"}],\"payable\":false,\"stateMutability\":\"view\",\"type\":\"function\"},{\"constant\":true,\"inputs\":[],\"name\":\"totalBalance\",\"outputs\":[{\"name\":\"\",\"type\":\"uint256\"}],\"payable\":false,\"stateMutability\":\"view\",\"type\":\"function\"},{\"constant\":true,\"inputs\":[],\"name\":\"pendingOwner\",\"outputs\":[{\"name\":\"\",\"type\":\"address\"}],\"payable\":false,\"stateMutability\":\"view\",\"type\":\"function\"},{\"constant\":true,\"inputs\":[{\"name\":\"\",\"type\":\"address\"}],\"name\":\"withdrawnBalances\",\"outputs\":[{\"name\":\"\",\"type\":\"uint256\"}],\"payable\":false,\"stateMutability\":\"view\",\"type\":\"function\"},{\"constant\":false,\"inputs\":[{\"name\":\"newOwner\",\"type\":\"address\"}],\"name\":\"transferOwnership\",\"outputs\":[],\"payable\":false,\"stateMutability\":\"nonpayable\",\"type\":\"function\"},{\"constant\":false,\"inputs\":[{\"name\":\"_to\",\"type\":\"address\"},{\"name\":\"_value\",\"type\":\"uint256\"}],\"name\":\"withdraw\",\"outputs\":[],\"payable\":false,\"stateMutability\":\"nonpayable\",\"type\":\"function\"},{\"constant\":true,\"inputs\":[],\"name\":\"totalUnFreezeDate\",\"outputs\":[{\"name\":\"\",\"type\":\"uint256\"}],\"payable\":false,\"stateMutability\":\"view\",\"type\":\"function\"},{\"constant\":true,\"inputs\":[],\"name\":\"token\",\"outputs\":[{\"name\":\"\",\"type\":\"address\"}],\"payable\":false,\"stateMutability\":\"view\",\"type\":\"function\"},{\"inputs\":[{\"name\":\"_token\",\"type\":\"address\"},{\"name\":\"_unFreezeStartDate\",\"type\":\"uint256\"},{\"name\":\"_totalUnFreezeDate\",\"type\":\"uint256\"}],\"payable\":false,\"stateMutability\":\"nonpayable\",\"type\":\"constructor\"},{\"anonymous\":false,\"inputs\":[{\"indexed\":true,\"name\":\"previousOwner\",\"type\":\"address\"},{\"indexed\":true,\"name\":\"newOwner\",\"type\":\"address\"}],\"name\":\"OwnershipTransferred\",\"type\":\"event\"}]'"
      ]
     },
     "execution_count": 9,
     "metadata": {},
     "output_type": "execute_result"
    }
   ],
   "source": [
    "keeper_abi = json.loads(solc_output[0])['contracts']['<stdin>:Keeper']['abi']\n",
    "keeper_abi"
   ]
  },
  {
   "cell_type": "markdown",
   "metadata": {},
   "source": [
    "### Token"
   ]
  },
  {
   "cell_type": "code",
   "execution_count": 10,
   "metadata": {},
   "outputs": [],
   "source": [
    "solc = subprocess.Popen(['solc', '--combined-json', 'bin,abi', '-'], stdout=subprocess.PIPE, stdin=subprocess.PIPE)\n",
    "solc_output = solc.communicate(token_source_code)"
   ]
  },
  {
   "cell_type": "markdown",
   "metadata": {},
   "source": [
    "See the contract bytecode"
   ]
  },
  {
   "cell_type": "code",
   "execution_count": 11,
   "metadata": {},
   "outputs": [
    {
     "data": {
      "text/plain": [
       "'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'"
      ]
     },
     "execution_count": 11,
     "metadata": {},
     "output_type": "execute_result"
    }
   ],
   "source": [
    "token_bytecode = json.loads(solc_output[0])['contracts']['<stdin>:SwgToken']['bin']\n",
    "token_bytecode"
   ]
  },
  {
   "cell_type": "markdown",
   "metadata": {},
   "source": [
    "See the token ABI interfaces"
   ]
  },
  {
   "cell_type": "code",
   "execution_count": 12,
   "metadata": {
    "scrolled": true
   },
   "outputs": [
    {
     "data": {
      "text/plain": [
       "'[{\"constant\":true,\"inputs\":[],\"name\":\"name\",\"outputs\":[{\"name\":\"\",\"type\":\"string\"}],\"payable\":false,\"stateMutability\":\"view\",\"type\":\"function\"},{\"constant\":false,\"inputs\":[{\"name\":\"spender\",\"type\":\"address\"},{\"name\":\"value\",\"type\":\"uint256\"}],\"name\":\"approve\",\"outputs\":[{\"name\":\"\",\"type\":\"bool\"}],\"payable\":false,\"stateMutability\":\"nonpayable\",\"type\":\"function\"},{\"constant\":true,\"inputs\":[],\"name\":\"totalSupply\",\"outputs\":[{\"name\":\"\",\"type\":\"uint256\"}],\"payable\":false,\"stateMutability\":\"view\",\"type\":\"function\"},{\"constant\":false,\"inputs\":[{\"name\":\"from\",\"type\":\"address\"},{\"name\":\"to\",\"type\":\"address\"},{\"name\":\"value\",\"type\":\"uint256\"}],\"name\":\"transferFrom\",\"outputs\":[{\"name\":\"\",\"type\":\"bool\"}],\"payable\":false,\"stateMutability\":\"nonpayable\",\"type\":\"function\"},{\"constant\":true,\"inputs\":[],\"name\":\"decimals\",\"outputs\":[{\"name\":\"\",\"type\":\"uint8\"}],\"payable\":false,\"stateMutability\":\"view\",\"type\":\"function\"},{\"constant\":false,\"inputs\":[{\"name\":\"spender\",\"type\":\"address\"},{\"name\":\"addedValue\",\"type\":\"uint256\"}],\"name\":\"increaseAllowance\",\"outputs\":[{\"name\":\"\",\"type\":\"bool\"}],\"payable\":false,\"stateMutability\":\"nonpayable\",\"type\":\"function\"},{\"constant\":false,\"inputs\":[{\"name\":\"to\",\"type\":\"address\"},{\"name\":\"value\",\"type\":\"uint256\"}],\"name\":\"mint\",\"outputs\":[{\"name\":\"\",\"type\":\"bool\"}],\"payable\":false,\"stateMutability\":\"nonpayable\",\"type\":\"function\"},{\"constant\":false,\"inputs\":[{\"name\":\"value\",\"type\":\"uint256\"}],\"name\":\"burn\",\"outputs\":[],\"payable\":false,\"stateMutability\":\"nonpayable\",\"type\":\"function\"},{\"constant\":false,\"inputs\":[],\"name\":\"claimOwnership\",\"outputs\":[],\"payable\":false,\"stateMutability\":\"nonpayable\",\"type\":\"function\"},{\"constant\":true,\"inputs\":[{\"name\":\"owner\",\"type\":\"address\"}],\"name\":\"balanceOf\",\"outputs\":[{\"name\":\"\",\"type\":\"uint256\"}],\"payable\":false,\"stateMutability\":\"view\",\"type\":\"function\"},{\"constant\":false,\"inputs\":[{\"name\":\"from\",\"type\":\"address\"},{\"name\":\"value\",\"type\":\"uint256\"}],\"name\":\"burnFrom\",\"outputs\":[],\"payable\":false,\"stateMutability\":\"nonpayable\",\"type\":\"function\"},{\"constant\":true,\"inputs\":[],\"name\":\"owner\",\"outputs\":[{\"name\":\"\",\"type\":\"address\"}],\"payable\":false,\"stateMutability\":\"view\",\"type\":\"function\"},{\"constant\":true,\"inputs\":[],\"name\":\"symbol\",\"outputs\":[{\"name\":\"\",\"type\":\"string\"}],\"payable\":false,\"stateMutability\":\"view\",\"type\":\"function\"},{\"constant\":false,\"inputs\":[{\"name\":\"spender\",\"type\":\"address\"},{\"name\":\"subtractedValue\",\"type\":\"uint256\"}],\"name\":\"decreaseAllowance\",\"outputs\":[{\"name\":\"\",\"type\":\"bool\"}],\"payable\":false,\"stateMutability\":\"nonpayable\",\"type\":\"function\"},{\"constant\":false,\"inputs\":[{\"name\":\"to\",\"type\":\"address\"},{\"name\":\"value\",\"type\":\"uint256\"}],\"name\":\"transfer\",\"outputs\":[{\"name\":\"\",\"type\":\"bool\"}],\"payable\":false,\"stateMutability\":\"nonpayable\",\"type\":\"function\"},{\"constant\":true,\"inputs\":[{\"name\":\"owner\",\"type\":\"address\"},{\"name\":\"spender\",\"type\":\"address\"}],\"name\":\"allowance\",\"outputs\":[{\"name\":\"\",\"type\":\"uint256\"}],\"payable\":false,\"stateMutability\":\"view\",\"type\":\"function\"},{\"constant\":true,\"inputs\":[],\"name\":\"pendingOwner\",\"outputs\":[{\"name\":\"\",\"type\":\"address\"}],\"payable\":false,\"stateMutability\":\"view\",\"type\":\"function\"},{\"constant\":false,\"inputs\":[{\"name\":\"newOwner\",\"type\":\"address\"}],\"name\":\"transferOwnership\",\"outputs\":[],\"payable\":false,\"stateMutability\":\"nonpayable\",\"type\":\"function\"},{\"anonymous\":false,\"inputs\":[{\"indexed\":true,\"name\":\"previousOwner\",\"type\":\"address\"},{\"indexed\":true,\"name\":\"newOwner\",\"type\":\"address\"}],\"name\":\"OwnershipTransferred\",\"type\":\"event\"},{\"anonymous\":false,\"inputs\":[{\"indexed\":true,\"name\":\"from\",\"type\":\"address\"},{\"indexed\":true,\"name\":\"to\",\"type\":\"address\"},{\"indexed\":false,\"name\":\"value\",\"type\":\"uint256\"}],\"name\":\"Transfer\",\"type\":\"event\"},{\"anonymous\":false,\"inputs\":[{\"indexed\":true,\"name\":\"owner\",\"type\":\"address\"},{\"indexed\":true,\"name\":\"spender\",\"type\":\"address\"},{\"indexed\":false,\"name\":\"value\",\"type\":\"uint256\"}],\"name\":\"Approval\",\"type\":\"event\"}]'"
      ]
     },
     "execution_count": 12,
     "metadata": {},
     "output_type": "execute_result"
    }
   ],
   "source": [
    "token_abi = json.loads(solc_output[0])['contracts']['<stdin>:SwgToken']['abi']\n",
    "token_abi"
   ]
  },
  {
   "cell_type": "markdown",
   "metadata": {},
   "source": [
    "## Instantiate\n",
    "Instantiate contracts"
   ]
  },
  {
   "cell_type": "code",
   "execution_count": 13,
   "metadata": {},
   "outputs": [],
   "source": [
    "keeper = w3.eth.contract(\n",
    "    address=keeper_address,\n",
    "    abi=keeper_abi,\n",
    ")\n",
    "keeper\n",
    "assert keeper.functions.token().call() == token_address"
   ]
  },
  {
   "cell_type": "code",
   "execution_count": 14,
   "metadata": {},
   "outputs": [],
   "source": [
    "token = w3.eth.contract(\n",
    "    address=token_address,\n",
    "    abi=token_abi,\n",
    ")\n",
    "token\n",
    "decimals = token.functions.decimals().call()\n",
    "assert token.functions.symbol().call() == 'TESTWG'\n",
    "assert token.functions.decimals().call() == 8"
   ]
  },
  {
   "cell_type": "markdown",
   "metadata": {},
   "source": [
    "## Check token and keeper balances\n",
    "Call the contract methods (read)"
   ]
  },
  {
   "cell_type": "code",
   "execution_count": 28,
   "metadata": {},
   "outputs": [
    {
     "data": {
      "text/plain": [
       "7402.00002"
      ]
     },
     "execution_count": 28,
     "metadata": {},
     "output_type": "execute_result"
    }
   ],
   "source": [
    "# Total tokens on Keeper\n",
    "total_tokens_on_keeper = token.functions.balanceOf(keeper_address).call()\n",
    "total_tokens_on_keeper / 10 ** decimals"
   ]
  },
  {
   "cell_type": "code",
   "execution_count": 29,
   "metadata": {},
   "outputs": [
    {
     "data": {
      "text/plain": [
       "5180.00002"
      ]
     },
     "execution_count": 29,
     "metadata": {},
     "output_type": "execute_result"
    }
   ],
   "source": [
    "# Registered tokens on Keeper\n",
    "tokens_registered_on_keeper = keeper.functions.totalBalance().call()\n",
    "tokens_registered_on_keeper / 10 ** decimals"
   ]
  },
  {
   "cell_type": "code",
   "execution_count": 31,
   "metadata": {},
   "outputs": [
    {
     "data": {
      "text/plain": [
       "2222.0"
      ]
     },
     "execution_count": 31,
     "metadata": {},
     "output_type": "execute_result"
    }
   ],
   "source": [
    "# Unregistered delta\n",
    "unregistered_delta = total_tokens_on_keeper - tokens_registered_on_keeper\n",
    "unregistered_delta / 10 ** decimals"
   ]
  },
  {
   "cell_type": "code",
   "execution_count": 20,
   "metadata": {},
   "outputs": [
    {
     "data": {
      "text/plain": [
       "318000000000"
      ]
     },
     "execution_count": 20,
     "metadata": {},
     "output_type": "execute_result"
    }
   ],
   "source": [
    "keeper.functions.balances('0x76406dBBA94f497FA430da5DBd32eDa10a3B5886'). call()"
   ]
  },
  {
   "cell_type": "code",
   "execution_count": null,
   "metadata": {},
   "outputs": [],
   "source": []
  }
 ],
 "metadata": {
  "kernelspec": {
   "display_name": "Python 3",
   "language": "python",
   "name": "python3"
  },
  "language_info": {
   "codemirror_mode": {
    "name": "ipython",
    "version": 3
   },
   "file_extension": ".py",
   "mimetype": "text/x-python",
   "name": "python",
   "nbconvert_exporter": "python",
   "pygments_lexer": "ipython3",
   "version": "3.7.3"
  }
 },
 "nbformat": 4,
 "nbformat_minor": 2
}
