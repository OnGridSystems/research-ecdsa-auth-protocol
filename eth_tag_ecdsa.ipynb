{
 "cells": [
  {
   "cell_type": "markdown",
   "metadata": {},
   "source": [
    "# ECDSA tag verification\n",
    "## Prepare\n",
    "\n",
    "To interact with Ethereum network, you need Ethereum node up and running.\n",
    "You can run both notebook and ganache-cli node emulator by `./start.sh` script.\n",
    "\n",
    "Or you can run ganache-cli Ethereum emulator in separate terminal\n",
    "`npx ganache-cli -m \"dawn finish orchard pluck festival genuine absorb van bike mirror kiss loop\"`\n",
    "(12 words are the seed passphrase to keep addresses and keys constant)"
   ]
  },
  {
   "cell_type": "markdown",
   "metadata": {},
   "source": [
    "### Connect to Web3\n",
    "Now connect to Ethereum provider via web3 RPC"
   ]
  },
  {
   "cell_type": "code",
   "execution_count": 63,
   "metadata": {},
   "outputs": [],
   "source": [
    "from web3 import Web3\n",
    "w3 = Web3(Web3.HTTPProvider('http://127.0.0.1:8545'))\n",
    "w3.eth.defaultAccount = w3.eth.accounts[0]"
   ]
  },
  {
   "cell_type": "markdown",
   "metadata": {},
   "source": [
    "Check if web3 up and running"
   ]
  },
  {
   "cell_type": "code",
   "execution_count": 64,
   "metadata": {},
   "outputs": [
    {
     "data": {
      "text/plain": [
       "AttributeDict({'number': 8,\n",
       " 'hash': HexBytes('0x93212e01fa51e6f80ab9928da00eb1d36c33b62ecc71c80374001107d492ac9a'),\n",
       " 'parentHash': HexBytes('0xf8105d8f84a77a6e2ecf8b728c9e99059510703bf83a6e6e44eb7325d2dd63ac'),\n",
       " 'mixHash': HexBytes('0x0000000000000000000000000000000000000000000000000000000000000000'),\n",
       " 'nonce': HexBytes('0x0000000000000000'),\n",
       " 'sha3Uncles': HexBytes('0x1dcc4de8dec75d7aab85b567b6ccd41ad312451b948a7413f0a142fd40d49347'),\n",
       " 'logsBloom': HexBytes('0x00000000000000000000000000000000000000000000000000000000000000000000000000000000000000000000000000000000000000000000000000000000000000000000000000000000000000000000000000000000000000000000000000000000000000000000000000000000000000000000000000000000000000000000000000000000000000000000000000000000000000000000000000000000000000000000000000000000000000000000000000000000000000000000000000000000000000000000000000000000000000000000000000000000000000000000000000000000000000000000000000000000000000000000000000000000'),\n",
       " 'transactionsRoot': HexBytes('0x14138371b6b1a972d8531ed25373b116eb49f34d57f9a6ea8063464cee479c76'),\n",
       " 'stateRoot': HexBytes('0x2f6ac970171e54dac7a8c80189012a7ad2389a363feeed9c9f2a7dd29f3911a0'),\n",
       " 'receiptsRoot': HexBytes('0xf9c74698fe404f989d3fdf6f94b4dcd8b6dfc6f92355da8079b59a03c7e9ef63'),\n",
       " 'miner': '0x0000000000000000000000000000000000000000',\n",
       " 'difficulty': 0,\n",
       " 'totalDifficulty': 0,\n",
       " 'extraData': HexBytes('0x'),\n",
       " 'size': 1000,\n",
       " 'gasLimit': 6721975,\n",
       " 'gasUsed': 43315,\n",
       " 'timestamp': 1555942071,\n",
       " 'transactions': [HexBytes('0xc0c076225ef8bbf9db5193e8a35424a644ab9ed948b901057c7fcac7857120c2')],\n",
       " 'uncles': []})"
      ]
     },
     "execution_count": 64,
     "metadata": {},
     "output_type": "execute_result"
    }
   ],
   "source": [
    "w3.eth.getBlock('latest')"
   ]
  },
  {
   "cell_type": "markdown",
   "metadata": {},
   "source": [
    "### Solidity version\n",
    "Solc compiler has to be installed on your machine. Check solidity version (should match pragma statement in your contract)"
   ]
  },
  {
   "cell_type": "code",
   "execution_count": 65,
   "metadata": {},
   "outputs": [
    {
     "data": {
      "text/plain": [
       "'0.5.7+commit.6da8b019.Darwin.appleclang'"
      ]
     },
     "execution_count": 65,
     "metadata": {},
     "output_type": "execute_result"
    }
   ],
   "source": [
    "import subprocess, re, json\n",
    "solc = subprocess.Popen(['solc', '--version'], stdout=subprocess.PIPE, stdin=subprocess.PIPE)\n",
    "solc_output = solc.communicate()\n",
    "\n",
    "m = re.search(r\"Version: ([\\w\\.\\+]+)\", str(solc_output[0]))\n",
    "m.group(1)"
   ]
  },
  {
   "cell_type": "markdown",
   "metadata": {},
   "source": [
    "### Solidity TagRegistry contract\n",
    "The contract stores tag registry and verifies the signatures reported by authenticators"
   ]
  },
  {
   "cell_type": "code",
   "execution_count": 66,
   "metadata": {},
   "outputs": [],
   "source": [
    "contract_source_code = b\"\"\"\n",
    "\n",
    "pragma solidity ^0.5.7;\n",
    "\n",
    "contract TagRegistry {\n",
    "    mapping (address => bool) public allowedTagIDs;\n",
    "    \n",
    "    function allow(address tagID) public {\n",
    "        allowedTagIDs[tagID] = true;\n",
    "    }\n",
    "    \n",
    "    function ban(address tagID) public {\n",
    "        allowedTagIDs[tagID] = false;\n",
    "    }\n",
    "    \n",
    "    function isTagIdAllowed(bytes32 signedData, uint8 v, bytes32 r, bytes32 s) view public returns(bool) {\n",
    "        address tagId = ecrecover(signedData, v, r, s);\n",
    "        return allowedTagIDs[tagId];\n",
    "    }\n",
    "}\n",
    "\n",
    "\"\"\""
   ]
  },
  {
   "cell_type": "markdown",
   "metadata": {},
   "source": [
    "Actually compile and generate ABI"
   ]
  },
  {
   "cell_type": "code",
   "execution_count": 67,
   "metadata": {},
   "outputs": [],
   "source": [
    "solc = subprocess.Popen(['solc', '--combined-json', 'bin,abi', '-'], stdout=subprocess.PIPE, stdin=subprocess.PIPE)\n",
    "solc_output = solc.communicate(contract_source_code)"
   ]
  },
  {
   "cell_type": "markdown",
   "metadata": {},
   "source": [
    "See the contract bytecode"
   ]
  },
  {
   "cell_type": "code",
   "execution_count": 68,
   "metadata": {},
   "outputs": [
    {
     "data": {
      "text/plain": [
       "'608060405234801561001057600080fd5b5061035f806100206000396000f3fe608060405234801561001057600080fd5b506004361061004c5760003560e01c806309d7ae181461005157806397c3ccd8146100b8578063e6213d13146100fc578063ff9913e814610158575b600080fd5b61009e6004803603608081101561006757600080fd5b8101908080359060200190929190803560ff169060200190929190803590602001909291908035906020019092919050505061019c565b604051808215151515815260200191505060405180910390f35b6100fa600480360360208110156100ce57600080fd5b81019080803573ffffffffffffffffffffffffffffffffffffffff16906020019092919050505061025f565b005b61013e6004803603602081101561011257600080fd5b81019080803573ffffffffffffffffffffffffffffffffffffffff1690602001909291905050506102b9565b604051808215151515815260200191505060405180910390f35b61019a6004803603602081101561016e57600080fd5b81019080803573ffffffffffffffffffffffffffffffffffffffff1690602001909291905050506102d9565b005b60008060018686868660405160008152602001604052604051808581526020018460ff1660ff1681526020018381526020018281526020019450505050506020604051602081039080840390855afa1580156101fc573d6000803e3d6000fd5b5050506020604051035190506000808273ffffffffffffffffffffffffffffffffffffffff1673ffffffffffffffffffffffffffffffffffffffff16815260200190815260200160002060009054906101000a900460ff16915050949350505050565b60008060008373ffffffffffffffffffffffffffffffffffffffff1673ffffffffffffffffffffffffffffffffffffffff16815260200190815260200160002060006101000a81548160ff02191690831515021790555050565b60006020528060005260406000206000915054906101000a900460ff1681565b60016000808373ffffffffffffffffffffffffffffffffffffffff1673ffffffffffffffffffffffffffffffffffffffff16815260200190815260200160002060006101000a81548160ff0219169083151502179055505056fea165627a7a72305820e1c1dad50ce101daa682f940044c3d084f988b4d1242b16466810fdce0083aa50029'"
      ]
     },
     "execution_count": 68,
     "metadata": {},
     "output_type": "execute_result"
    }
   ],
   "source": [
    "bytecode = json.loads(solc_output[0])['contracts']['<stdin>:TagRegistry']['bin']\n",
    "bytecode"
   ]
  },
  {
   "cell_type": "markdown",
   "metadata": {},
   "source": [
    "See the contract ABI interfaces"
   ]
  },
  {
   "cell_type": "code",
   "execution_count": 69,
   "metadata": {},
   "outputs": [
    {
     "data": {
      "text/plain": [
       "'[{\"constant\":true,\"inputs\":[{\"name\":\"signedData\",\"type\":\"bytes32\"},{\"name\":\"v\",\"type\":\"uint8\"},{\"name\":\"r\",\"type\":\"bytes32\"},{\"name\":\"s\",\"type\":\"bytes32\"}],\"name\":\"isTagIdAllowed\",\"outputs\":[{\"name\":\"\",\"type\":\"bool\"}],\"payable\":false,\"stateMutability\":\"view\",\"type\":\"function\"},{\"constant\":false,\"inputs\":[{\"name\":\"tagID\",\"type\":\"address\"}],\"name\":\"ban\",\"outputs\":[],\"payable\":false,\"stateMutability\":\"nonpayable\",\"type\":\"function\"},{\"constant\":true,\"inputs\":[{\"name\":\"\",\"type\":\"address\"}],\"name\":\"allowedTagIDs\",\"outputs\":[{\"name\":\"\",\"type\":\"bool\"}],\"payable\":false,\"stateMutability\":\"view\",\"type\":\"function\"},{\"constant\":false,\"inputs\":[{\"name\":\"tagID\",\"type\":\"address\"}],\"name\":\"allow\",\"outputs\":[],\"payable\":false,\"stateMutability\":\"nonpayable\",\"type\":\"function\"}]'"
      ]
     },
     "execution_count": 69,
     "metadata": {},
     "output_type": "execute_result"
    }
   ],
   "source": [
    "abi = json.loads(solc_output[0])['contracts']['<stdin>:TagRegistry']['abi']\n",
    "abi"
   ]
  },
  {
   "cell_type": "markdown",
   "metadata": {},
   "source": [
    "### Deploy\n",
    "Instantiate contract fabric and deploy the contract on the net"
   ]
  },
  {
   "cell_type": "code",
   "execution_count": 70,
   "metadata": {},
   "outputs": [
    {
     "data": {
      "text/plain": [
       "HexBytes('0x467fe9c344724782a4595c06dba214781e5ff202260e0f611f3589b55cc6e0a0')"
      ]
     },
     "execution_count": 70,
     "metadata": {},
     "output_type": "execute_result"
    }
   ],
   "source": [
    "TagRegistry = w3.eth.contract(abi=abi, bytecode=bytecode)\n",
    "tx_hash = TagRegistry.constructor().transact()\n",
    "tx_hash"
   ]
  },
  {
   "cell_type": "markdown",
   "metadata": {},
   "source": [
    "Get Tx receipt (see contractAddress)"
   ]
  },
  {
   "cell_type": "code",
   "execution_count": 71,
   "metadata": {},
   "outputs": [
    {
     "data": {
      "text/plain": [
       "AttributeDict({'transactionHash': HexBytes('0x467fe9c344724782a4595c06dba214781e5ff202260e0f611f3589b55cc6e0a0'),\n",
       " 'transactionIndex': 0,\n",
       " 'blockHash': HexBytes('0x01d0268c531be10eb2e5c9286abc965fe99ff243ffa785e42226a24bdcac510c'),\n",
       " 'blockNumber': 9,\n",
       " 'from': '0x90c08087af274b77516df05952273008fea2c4b9',\n",
       " 'to': None,\n",
       " 'gasUsed': 283730,\n",
       " 'cumulativeGasUsed': 283730,\n",
       " 'contractAddress': '0xE6af14C5B3F3f069b4387B08d48F345b495aBA39',\n",
       " 'logs': [],\n",
       " 'status': 1,\n",
       " 'logsBloom': HexBytes('0x00000000000000000000000000000000000000000000000000000000000000000000000000000000000000000000000000000000000000000000000000000000000000000000000000000000000000000000000000000000000000000000000000000000000000000000000000000000000000000000000000000000000000000000000000000000000000000000000000000000000000000000000000000000000000000000000000000000000000000000000000000000000000000000000000000000000000000000000000000000000000000000000000000000000000000000000000000000000000000000000000000000000000000000000000000000'),\n",
       " 'v': '0x1b',\n",
       " 'r': '0xa62180e3e3fadb607d3d345ae6dafc8d737e66637e112942aad9b9b519e70593',\n",
       " 's': '0x144e363e9c219b0bcc09ad24bae8514d21a3fccbbda0de2a13bf0ec317654eaa'})"
      ]
     },
     "execution_count": 71,
     "metadata": {},
     "output_type": "execute_result"
    }
   ],
   "source": [
    "tx_receipt = w3.eth.waitForTransactionReceipt(tx_hash)\n",
    "tx_receipt"
   ]
  },
  {
   "cell_type": "markdown",
   "metadata": {},
   "source": [
    "Initialize contract instance at given address"
   ]
  },
  {
   "cell_type": "code",
   "execution_count": 72,
   "metadata": {},
   "outputs": [
    {
     "data": {
      "text/plain": [
       "<web3.utils.datatypes.Contract at 0x1111b4cf8>"
      ]
     },
     "execution_count": 72,
     "metadata": {},
     "output_type": "execute_result"
    }
   ],
   "source": [
    "tag_registry = w3.eth.contract(\n",
    "    address=tx_receipt.contractAddress,\n",
    "    abi=abi,\n",
    ")\n",
    "tag_registry"
   ]
  },
  {
   "cell_type": "markdown",
   "metadata": {},
   "source": [
    "# Manufacturing\n",
    "Tag is a wireless passive equipment with ECDSA IC on board which:\n",
    "* stores the secret and never expose it to the outside\n",
    "* reports its public key\n",
    "* implements ECDSA SECP256k1 signatures and can sign the 32-bit data object with its secret key and send back the result"
   ]
  },
  {
   "cell_type": "code",
   "execution_count": 86,
   "metadata": {},
   "outputs": [],
   "source": [
    "from eth_keys import keys\n",
    "\n",
    "class Tag:\n",
    "    _priv_key = None # never exposed outside\n",
    "    pub_key = None\n",
    "    def __init__(self, priv_key):\n",
    "        self._priv_key = keys.PrivateKey(priv_key)\n",
    "        \n",
    "    def get_pub_key(self):\n",
    "        return self._priv_key.public_key\n",
    "    \n",
    "    def sign(self, data):\n",
    "        return w3.eth.account.signHash(data, private_key=self._priv_key) "
   ]
  },
  {
   "cell_type": "markdown",
   "metadata": {},
   "source": [
    "The manufacturer produces a lot of tags, each with its own random private key.\n",
    "We take two tags:\n",
    "allowed_tag - will be registered in the registry as genuine \n",
    "banned_tag - another tag will have no records in the registry"
   ]
  },
  {
   "cell_type": "code",
   "execution_count": 87,
   "metadata": {},
   "outputs": [
    {
     "data": {
      "text/plain": [
       "(<__main__.Tag at 0x1111c39b0>, <__main__.Tag at 0x111155e10>)"
      ]
     },
     "execution_count": 87,
     "metadata": {},
     "output_type": "execute_result"
    }
   ],
   "source": [
    "#Produce two tags with random secret keys\n",
    "# took SHA3-256 for better randomization. Can take any hash with 256-bit output\n",
    "import hashlib, os\n",
    "m = hashlib.sha256() \n",
    "m.update(os.urandom(1024))\n",
    "allowed_tag = Tag(m.digest())\n",
    "m = hashlib.sha256()\n",
    "m.update(os.urandom(1024))\n",
    "banned_tag = Tag(m.digest())\n",
    "allowed_tag, banned_tag"
   ]
  },
  {
   "cell_type": "markdown",
   "metadata": {},
   "source": [
    "# Provisioning\n",
    "When the tag gets mounted on the rail, it gets authorized as genuine equipment.\n",
    "It gets scanned, address gets calculated and stored in the registry contract."
   ]
  },
  {
   "cell_type": "code",
   "execution_count": 89,
   "metadata": {},
   "outputs": [
    {
     "data": {
      "text/plain": [
       "HexBytes('0x5b2571186f52527efaaf2fc929e544be6eda0c502c2f33323aaa06825742c91c')"
      ]
     },
     "execution_count": 89,
     "metadata": {},
     "output_type": "execute_result"
    }
   ],
   "source": [
    "allowed_tag_address = allowed_tag.get_pub_key().to_checksum_address()\n",
    "tag_registry.functions.allow(allowed_tag_address).transact()"
   ]
  },
  {
   "cell_type": "markdown",
   "metadata": {},
   "source": [
    "When blockchain transaction gets mined the record securely stored in the contract.\n",
    "Allowed tag id is in allowed list."
   ]
  },
  {
   "cell_type": "code",
   "execution_count": 90,
   "metadata": {},
   "outputs": [
    {
     "data": {
      "text/plain": [
       "True"
      ]
     },
     "execution_count": 90,
     "metadata": {},
     "output_type": "execute_result"
    }
   ],
   "source": [
    "tag_registry.functions.allowedTagIDs(allowed_tag_address).call()"
   ]
  },
  {
   "cell_type": "markdown",
   "metadata": {},
   "source": [
    "banned_tag has been never provisioned to the registry, so it's disallowed"
   ]
  },
  {
   "cell_type": "code",
   "execution_count": 91,
   "metadata": {},
   "outputs": [
    {
     "data": {
      "text/plain": [
       "False"
      ]
     },
     "execution_count": 91,
     "metadata": {},
     "output_type": "execute_result"
    }
   ],
   "source": [
    "tag_registry.functions.allowedTagIDs(banned_tag.get_pub_key().to_checksum_address()).call()"
   ]
  },
  {
   "cell_type": "markdown",
   "metadata": {},
   "source": [
    "# Operation\n",
    "The scanner found the tag and received its ECDSA keypair public key.\n",
    "It's optional step. It's possible to continuosly broadcast `.sign()` messages"
   ]
  },
  {
   "cell_type": "code",
   "execution_count": 95,
   "metadata": {
    "scrolled": false
   },
   "outputs": [
    {
     "data": {
      "text/plain": [
       "'0x0f2891c17dee221c18dd38e8115f4b508532d92ae4590112e9e0075374ea36068890b2bea9773039e9716a074c6b5cc73a1f1ae31d36b0cecd6b7ca16f188484'"
      ]
     },
     "execution_count": 95,
     "metadata": {},
     "output_type": "execute_result"
    }
   ],
   "source": [
    "allowed_tag.get_pub_key()"
   ]
  },
  {
   "cell_type": "markdown",
   "metadata": {},
   "source": [
    "To assure the Tag is not a stub radio transmitter broadcasting the public key copied from another ID, the reader uthenticates it.\n",
    "Reader generates one-time random number of 32 bytes length."
   ]
  },
  {
   "cell_type": "code",
   "execution_count": 96,
   "metadata": {},
   "outputs": [
    {
     "data": {
      "text/plain": [
       "'d8c1ec93c7bfe1f14f973985b8311a377967aac45b6dc7ac0af9ab90565edd47'"
      ]
     },
     "execution_count": 96,
     "metadata": {},
     "output_type": "execute_result"
    }
   ],
   "source": [
    "m = hashlib.sha256()\n",
    "m.update(os.urandom(1024))\n",
    "rnd = m.digest()\n",
    "rnd.hex()"
   ]
  },
  {
   "cell_type": "markdown",
   "metadata": {},
   "source": [
    "and sends the number towards the tag. Tag signs it and responds with its signature"
   ]
  },
  {
   "cell_type": "code",
   "execution_count": 97,
   "metadata": {},
   "outputs": [
    {
     "data": {
      "text/plain": [
       "AttributeDict({'messageHash': HexBytes('0xd8c1ec93c7bfe1f14f973985b8311a377967aac45b6dc7ac0af9ab90565edd47'),\n",
       " 'r': 54584104147711485840738378979194865709441348205450212112854859713898738347707,\n",
       " 's': 9623638295190000776758953574573796208096580937679721874590836570587538216013,\n",
       " 'v': 28,\n",
       " 'signature': HexBytes('0x78ad82145833ecf5dc9a40b24ab632c17c8b7f4448621b84c5127034985beebb1546c94790aa3cad1a96ec3b6e5c066c565aa115e570f3b5b425c9f43b79544d1c')})"
      ]
     },
     "execution_count": 97,
     "metadata": {},
     "output_type": "execute_result"
    }
   ],
   "source": [
    "allowed_tag_signature = allowed_tag.sign(rnd)\n",
    "allowed_tag_signature"
   ]
  },
  {
   "cell_type": "markdown",
   "metadata": {},
   "source": [
    "The receiver verifies the number and its signature via `isTagIdAllowed` method of registry"
   ]
  },
  {
   "cell_type": "code",
   "execution_count": 98,
   "metadata": {},
   "outputs": [
    {
     "data": {
      "text/plain": [
       "True"
      ]
     },
     "execution_count": 98,
     "metadata": {},
     "output_type": "execute_result"
    }
   ],
   "source": [
    "tag_registry.functions.isTagIdAllowed(\n",
    "    rnd,\n",
    "    allowed_tag_signature.v,\n",
    "    allowed_tag_signature.r.to_bytes(32, byteorder='big'),\n",
    "    allowed_tag_signature.s.to_bytes(32, byteorder='big')).call()"
   ]
  },
  {
   "cell_type": "markdown",
   "metadata": {},
   "source": [
    "Then reader discovers tag which wasn't allowed or was revoked (banned)"
   ]
  },
  {
   "cell_type": "code",
   "execution_count": 82,
   "metadata": {},
   "outputs": [
    {
     "data": {
      "text/plain": [
       "'0x13d5e96e615e4b49f049e6632ada397c4afd035e21b68e4cdd16b3ba1e9a90c703bf630a1a930ebc5636287cac7faf22eaa3b0aa5cc96fa980b8e371726681d0'"
      ]
     },
     "execution_count": 82,
     "metadata": {},
     "output_type": "execute_result"
    }
   ],
   "source": [
    "banned_tag.get_pub_key()"
   ]
  },
  {
   "cell_type": "markdown",
   "metadata": {},
   "source": [
    "Reader generates new one-time random number"
   ]
  },
  {
   "cell_type": "code",
   "execution_count": 83,
   "metadata": {},
   "outputs": [
    {
     "data": {
      "text/plain": [
       "'a5c23e01bf6d053d7b4ffa9a317f582efa8bd3190260ce0807e9cf43425b2c9c'"
      ]
     },
     "execution_count": 83,
     "metadata": {},
     "output_type": "execute_result"
    }
   ],
   "source": [
    "m = hashlib.sha256()\n",
    "m.update(os.urandom(1024))\n",
    "rnd = m.digest()\n",
    "rnd.hex()"
   ]
  },
  {
   "cell_type": "code",
   "execution_count": 84,
   "metadata": {},
   "outputs": [
    {
     "data": {
      "text/plain": [
       "AttributeDict({'messageHash': HexBytes('0xa5c23e01bf6d053d7b4ffa9a317f582efa8bd3190260ce0807e9cf43425b2c9c'),\n",
       " 'r': 99288274403505527175805562138512902220964099144065001876758772970953950441060,\n",
       " 's': 14654237600920204680838483846240343007229921057513712403165133102175136442635,\n",
       " 'v': 27,\n",
       " 'signature': HexBytes('0xdb832bfd161347357539c05cc04757c265d80a7432a4a226c8edc94ab2812e642066012a6dff93d12fedf0149322cacb8fa9c654d77dec5afaa6c1e8652ae90b1b')})"
      ]
     },
     "execution_count": 84,
     "metadata": {},
     "output_type": "execute_result"
    }
   ],
   "source": [
    "banned_tag_signature = banned_tag.sign(rnd)\n",
    "banned_tag_signature"
   ]
  },
  {
   "cell_type": "code",
   "execution_count": 85,
   "metadata": {},
   "outputs": [
    {
     "data": {
      "text/plain": [
       "False"
      ]
     },
     "execution_count": 85,
     "metadata": {},
     "output_type": "execute_result"
    }
   ],
   "source": [
    "tag_registry.functions.isTagIdAllowed(\n",
    "    rnd,\n",
    "    banned_tag_signature.v,\n",
    "    banned_tag_signature.r.to_bytes(32, byteorder='big'),\n",
    "    banned_tag_signature.s.to_bytes(32, byteorder='big')).call()"
   ]
  },
  {
   "cell_type": "code",
   "execution_count": null,
   "metadata": {},
   "outputs": [],
   "source": []
  }
 ],
 "metadata": {
  "kernelspec": {
   "display_name": "Python 3",
   "language": "python",
   "name": "python3"
  },
  "language_info": {
   "codemirror_mode": {
    "name": "ipython",
    "version": 3
   },
   "file_extension": ".py",
   "mimetype": "text/x-python",
   "name": "python",
   "nbconvert_exporter": "python",
   "pygments_lexer": "ipython3",
   "version": "3.6.4"
  }
 },
 "nbformat": 4,
 "nbformat_minor": 2
}
